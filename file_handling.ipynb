{
  "nbformat": 4,
  "nbformat_minor": 0,
  "metadata": {
    "colab": {
      "provenance": []
    },
    "kernelspec": {
      "name": "python3",
      "display_name": "Python 3"
    },
    "language_info": {
      "name": "python"
    }
  },
  "cells": [
    {
      "cell_type": "code",
      "execution_count": 1,
      "metadata": {
        "id": "1Mg_7e2gR6Z-"
      },
      "outputs": [],
      "source": [
        "f=open('/content/abc.rtf')"
      ]
    },
    {
      "cell_type": "code",
      "source": [
        "f=open('/content/abc.rtf','r')\n"
      ],
      "metadata": {
        "id": "VxM2CbgESvSQ"
      },
      "execution_count": 3,
      "outputs": []
    },
    {
      "cell_type": "markdown",
      "source": [
        "read files"
      ],
      "metadata": {
        "id": "VD2VZHFdTHX6"
      }
    },
    {
      "cell_type": "code",
      "source": [
        "\n",
        "print(f.read())"
      ],
      "metadata": {
        "id": "SvBJgzgwTFME",
        "colab": {
          "base_uri": "https://localhost:8080/"
        },
        "outputId": "cd856371-c484-4f0c-882e-0b174f4fab99"
      },
      "execution_count": 4,
      "outputs": [
        {
          "output_type": "stream",
          "name": "stdout",
          "text": [
            "{\\rtf1\\ansi\\ansicpg1252\\cocoartf1561\\cocoasubrtf610\n",
            "{\\fonttbl\\f0\\fswiss\\fcharset0 Helvetica;}\n",
            "{\\colortbl;\\red255\\green255\\blue255;\\red29\\green38\\blue43;\\red255\\green255\\blue255;}\n",
            "{\\*\\expandedcolortbl;;\\cssrgb\\c15294\\c19608\\c22353;\\cssrgb\\c100000\\c100000\\c100000;}\n",
            "\\paperw11900\\paperh16840\\margl1440\\margr1440\\vieww10800\\viewh8400\\viewkind0\n",
            "\\deftab720\n",
            "\\pard\\pardeftab720\\sl420\\sa200\\partightenfactor0\n",
            "\n",
            "\\f0\\b\\fs36 \\cf2 \\cb3 \\expnd0\\expndtw0\\kerning0\n",
            "\\ul \\ulc2 \\outl0\\strokewidth0 \\strokec2 Machine Learning:\n",
            "\\b0 \\ulnone \\\n",
            "\\'a0Machine Learning is basically the study/process which provides the system(computer) to learn automatically on its own through experiences it had and improve accordingly without being explicitly programmed.\n",
            "\\b \\'a0ML is an application or subset of AI.\n",
            "\\b0 \\'a0ML focuses on the development of programs so that it can access data to use it for itself. The entire process makes observations on data to identify the possible patterns being formed and make better future decisions as per the examples provided to them.\\'a0\n",
            "\\b The major aim of ML is to allow the systems to learn by themselves through experience without any kind of human intervention or assistance.\n",
            "\\b0 \\\n",
            "\\'a0\n",
            "\\b \\ul Deep Learning:\n",
            "\\b0 \\ulnone \\\n",
            "\\pard\\pardeftab720\\sl420\\qc\\partightenfactor0\n",
            "\\cf2 \\cb1 \\\n",
            "\\\n",
            "\\pard\\pardeftab720\\sl420\\sa200\\partightenfactor0\n",
            "\\cf2 \\cb3 \\'a0Deep Learning is basically a sub-part of the broader family of Machine Learning which makes use of\\'a0\n",
            "\\b Neural Networks\n",
            "\\b0 (similar to the neurons working in our brain) to mimic human brain-like behavior. DL algorithms focus on\\'a0\n",
            "\\b information processing patterns\n",
            "\\b0 \\'a0mechanism to possibly identify the patterns just like our human brain does and classifies the information accordingly. DL works on larger sets of data when compared to ML and the\\'a0\n",
            "\\b prediction mechanism is self-administered by machines\n",
            "\\b0 .\\'a0\\\n",
            "}\n"
          ]
        }
      ]
    },
    {
      "cell_type": "code",
      "source": [
        "#with the path\n",
        "f=open(\"/content/abc.rtf\",'r')\n",
        "print(f.read())"
      ],
      "metadata": {
        "id": "Y9Bw66EATRdF",
        "colab": {
          "base_uri": "https://localhost:8080/"
        },
        "outputId": "8fbab669-2765-4c67-9093-97228bada861"
      },
      "execution_count": 5,
      "outputs": [
        {
          "output_type": "stream",
          "name": "stdout",
          "text": [
            "{\\rtf1\\ansi\\ansicpg1252\\cocoartf1561\\cocoasubrtf610\n",
            "{\\fonttbl\\f0\\fswiss\\fcharset0 Helvetica;}\n",
            "{\\colortbl;\\red255\\green255\\blue255;\\red29\\green38\\blue43;\\red255\\green255\\blue255;}\n",
            "{\\*\\expandedcolortbl;;\\cssrgb\\c15294\\c19608\\c22353;\\cssrgb\\c100000\\c100000\\c100000;}\n",
            "\\paperw11900\\paperh16840\\margl1440\\margr1440\\vieww10800\\viewh8400\\viewkind0\n",
            "\\deftab720\n",
            "\\pard\\pardeftab720\\sl420\\sa200\\partightenfactor0\n",
            "\n",
            "\\f0\\b\\fs36 \\cf2 \\cb3 \\expnd0\\expndtw0\\kerning0\n",
            "\\ul \\ulc2 \\outl0\\strokewidth0 \\strokec2 Machine Learning:\n",
            "\\b0 \\ulnone \\\n",
            "\\'a0Machine Learning is basically the study/process which provides the system(computer) to learn automatically on its own through experiences it had and improve accordingly without being explicitly programmed.\n",
            "\\b \\'a0ML is an application or subset of AI.\n",
            "\\b0 \\'a0ML focuses on the development of programs so that it can access data to use it for itself. The entire process makes observations on data to identify the possible patterns being formed and make better future decisions as per the examples provided to them.\\'a0\n",
            "\\b The major aim of ML is to allow the systems to learn by themselves through experience without any kind of human intervention or assistance.\n",
            "\\b0 \\\n",
            "\\'a0\n",
            "\\b \\ul Deep Learning:\n",
            "\\b0 \\ulnone \\\n",
            "\\pard\\pardeftab720\\sl420\\qc\\partightenfactor0\n",
            "\\cf2 \\cb1 \\\n",
            "\\\n",
            "\\pard\\pardeftab720\\sl420\\sa200\\partightenfactor0\n",
            "\\cf2 \\cb3 \\'a0Deep Learning is basically a sub-part of the broader family of Machine Learning which makes use of\\'a0\n",
            "\\b Neural Networks\n",
            "\\b0 (similar to the neurons working in our brain) to mimic human brain-like behavior. DL algorithms focus on\\'a0\n",
            "\\b information processing patterns\n",
            "\\b0 \\'a0mechanism to possibly identify the patterns just like our human brain does and classifies the information accordingly. DL works on larger sets of data when compared to ML and the\\'a0\n",
            "\\b prediction mechanism is self-administered by machines\n",
            "\\b0 .\\'a0\\\n",
            "}\n"
          ]
        }
      ]
    },
    {
      "cell_type": "code",
      "source": [
        "#read part of the file\n",
        "print(f.read(3))"
      ],
      "metadata": {
        "id": "Ca7opRvJTZ7G",
        "colab": {
          "base_uri": "https://localhost:8080/"
        },
        "outputId": "13f2acb1-b3b9-4b72-ba0c-8c8e8e5e50c1"
      },
      "execution_count": 7,
      "outputs": [
        {
          "output_type": "stream",
          "name": "stdout",
          "text": [
            "\n"
          ]
        }
      ]
    },
    {
      "cell_type": "code",
      "source": [
        "#read lines\n",
        "print(f.readline())\n"
      ],
      "metadata": {
        "id": "OtugHJy4Tj3H",
        "colab": {
          "base_uri": "https://localhost:8080/"
        },
        "outputId": "11269693-8098-418e-85f7-8d099738eafa"
      },
      "execution_count": 8,
      "outputs": [
        {
          "output_type": "stream",
          "name": "stdout",
          "text": [
            "\n"
          ]
        }
      ]
    },
    {
      "cell_type": "code",
      "source": [
        "#By calling readline() two times, you can read the two first lines\n",
        "a=open('/content/abc.rtf','r')\n",
        "print(a.readline())\n",
        "print(a.readline())"
      ],
      "metadata": {
        "id": "GjXCWBFmUBgL",
        "colab": {
          "base_uri": "https://localhost:8080/"
        },
        "outputId": "23cfd2c4-eab1-4ed3-b842-cc9f6c82cc89"
      },
      "execution_count": 9,
      "outputs": [
        {
          "output_type": "stream",
          "name": "stdout",
          "text": [
            "{\\rtf1\\ansi\\ansicpg1252\\cocoartf1561\\cocoasubrtf610\n",
            "\n",
            "{\\fonttbl\\f0\\fswiss\\fcharset0 Helvetica;}\n",
            "\n"
          ]
        }
      ]
    },
    {
      "cell_type": "code",
      "source": [
        "#By looping through the lines of the file, you can read the whole file, line by line:\n",
        "for x in a:\n",
        "  print(x)"
      ],
      "metadata": {
        "id": "4QcMcVX3UMWJ",
        "colab": {
          "base_uri": "https://localhost:8080/"
        },
        "outputId": "5b196e15-f1d2-4186-e932-0f40334382d5"
      },
      "execution_count": 10,
      "outputs": [
        {
          "output_type": "stream",
          "name": "stdout",
          "text": [
            "{\\colortbl;\\red255\\green255\\blue255;\\red29\\green38\\blue43;\\red255\\green255\\blue255;}\n",
            "\n",
            "{\\*\\expandedcolortbl;;\\cssrgb\\c15294\\c19608\\c22353;\\cssrgb\\c100000\\c100000\\c100000;}\n",
            "\n",
            "\\paperw11900\\paperh16840\\margl1440\\margr1440\\vieww10800\\viewh8400\\viewkind0\n",
            "\n",
            "\\deftab720\n",
            "\n",
            "\\pard\\pardeftab720\\sl420\\sa200\\partightenfactor0\n",
            "\n",
            "\n",
            "\n",
            "\\f0\\b\\fs36 \\cf2 \\cb3 \\expnd0\\expndtw0\\kerning0\n",
            "\n",
            "\\ul \\ulc2 \\outl0\\strokewidth0 \\strokec2 Machine Learning:\n",
            "\n",
            "\\b0 \\ulnone \\\n",
            "\n",
            "\\'a0Machine Learning is basically the study/process which provides the system(computer) to learn automatically on its own through experiences it had and improve accordingly without being explicitly programmed.\n",
            "\n",
            "\\b \\'a0ML is an application or subset of AI.\n",
            "\n",
            "\\b0 \\'a0ML focuses on the development of programs so that it can access data to use it for itself. The entire process makes observations on data to identify the possible patterns being formed and make better future decisions as per the examples provided to them.\\'a0\n",
            "\n",
            "\\b The major aim of ML is to allow the systems to learn by themselves through experience without any kind of human intervention or assistance.\n",
            "\n",
            "\\b0 \\\n",
            "\n",
            "\\'a0\n",
            "\n",
            "\\b \\ul Deep Learning:\n",
            "\n",
            "\\b0 \\ulnone \\\n",
            "\n",
            "\\pard\\pardeftab720\\sl420\\qc\\partightenfactor0\n",
            "\n",
            "\\cf2 \\cb1 \\\n",
            "\n",
            "\\\n",
            "\n",
            "\\pard\\pardeftab720\\sl420\\sa200\\partightenfactor0\n",
            "\n",
            "\\cf2 \\cb3 \\'a0Deep Learning is basically a sub-part of the broader family of Machine Learning which makes use of\\'a0\n",
            "\n",
            "\\b Neural Networks\n",
            "\n",
            "\\b0 (similar to the neurons working in our brain) to mimic human brain-like behavior. DL algorithms focus on\\'a0\n",
            "\n",
            "\\b information processing patterns\n",
            "\n",
            "\\b0 \\'a0mechanism to possibly identify the patterns just like our human brain does and classifies the information accordingly. DL works on larger sets of data when compared to ML and the\\'a0\n",
            "\n",
            "\\b prediction mechanism is self-administered by machines\n",
            "\n",
            "\\b0 .\\'a0\\\n",
            "\n",
            "}\n"
          ]
        }
      ]
    },
    {
      "cell_type": "code",
      "source": [
        "#close files\n",
        "print(a.readline())\n",
        "a.close()"
      ],
      "metadata": {
        "id": "TliYchY5UX55",
        "colab": {
          "base_uri": "https://localhost:8080/"
        },
        "outputId": "1d05f65e-6e4e-42f7-9244-6079b302dc17"
      },
      "execution_count": 11,
      "outputs": [
        {
          "output_type": "stream",
          "name": "stdout",
          "text": [
            "\n"
          ]
        }
      ]
    },
    {
      "cell_type": "markdown",
      "source": [
        "file write"
      ],
      "metadata": {
        "id": "Rkv3KCMOVb6i"
      }
    },
    {
      "cell_type": "code",
      "source": [
        "a=open(\"/content/abc.rtf\",\"w\")\n",
        "a.write(\"new things are added\")\n",
        "a.close()\n",
        "a=open('/content/abc.rtf','r')\n",
        "print(a.read())"
      ],
      "metadata": {
        "id": "BBTOolwuUjXT",
        "colab": {
          "base_uri": "https://localhost:8080/"
        },
        "outputId": "64167dc2-abe6-4fc5-c1f9-04884ddd2fd2"
      },
      "execution_count": 13,
      "outputs": [
        {
          "output_type": "stream",
          "name": "stdout",
          "text": [
            "new things are added\n"
          ]
        }
      ]
    },
    {
      "cell_type": "code",
      "source": [
        "#create a new file\n",
        "a=open('pqr.txt',\"x\")"
      ],
      "metadata": {
        "id": "0ONrg7RHWFmy"
      },
      "execution_count": 14,
      "outputs": []
    },
    {
      "cell_type": "markdown",
      "source": [
        "delete files"
      ],
      "metadata": {
        "id": "qi01EXmdWjcW"
      }
    },
    {
      "cell_type": "code",
      "source": [
        "import os\n",
        "os.remove('pqr.txt')"
      ],
      "metadata": {
        "id": "FDnqJiShWelh"
      },
      "execution_count": 15,
      "outputs": []
    },
    {
      "cell_type": "code",
      "source": [
        "#check if file exist\n",
        "import os\n",
        "if os.path.exists('pqr.txt'):\n",
        "  os.remove('pqr.txt')\n",
        "else:\n",
        "  print('file does not exist')"
      ],
      "metadata": {
        "id": "2qxboDIEWt2N",
        "colab": {
          "base_uri": "https://localhost:8080/"
        },
        "outputId": "4a55c112-553f-447d-dd91-afbcf82866b7"
      },
      "execution_count": 16,
      "outputs": [
        {
          "output_type": "stream",
          "name": "stdout",
          "text": [
            "file does not exist\n"
          ]
        }
      ]
    },
    {
      "cell_type": "code",
      "source": [
        "#delete folder.      we can only remove empty folder\n",
        "import os\n",
        "os.rmdir('f1')"
      ],
      "metadata": {
        "id": "Zw0dCLBisQjT"
      },
      "execution_count": null,
      "outputs": []
    }
  ]
}