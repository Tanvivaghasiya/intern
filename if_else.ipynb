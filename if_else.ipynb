{
  "nbformat": 4,
  "nbformat_minor": 0,
  "metadata": {
    "colab": {
      "provenance": []
    },
    "kernelspec": {
      "name": "python3",
      "display_name": "Python 3"
    },
    "language_info": {
      "name": "python"
    }
  },
  "cells": [
    {
      "cell_type": "code",
      "execution_count": null,
      "metadata": {
        "colab": {
          "base_uri": "https://localhost:8080/"
        },
        "id": "nqTbee5VFSFr",
        "outputId": "d48016f6-0a6a-42a2-9bff-e9b87a8e1e5d"
      },
      "outputs": [
        {
          "output_type": "stream",
          "name": "stdout",
          "text": [
            "a is greater\n"
          ]
        }
      ],
      "source": [
        "a=90\n",
        "b=80\n",
        "if a>b:\n",
        "    print('a is greater')\n",
        "else:\n",
        "    print('b is greater')"
      ]
    },
    {
      "cell_type": "code",
      "source": [
        "a=45\n",
        "b=78"
      ],
      "metadata": {
        "id": "edxpN7LlJlY0"
      },
      "execution_count": null,
      "outputs": []
    },
    {
      "cell_type": "code",
      "source": [
        "#shorthand if\n",
        "if a>b:\n",
        "  print('a is greater')"
      ],
      "metadata": {
        "id": "qRVWOW9KF1_V"
      },
      "execution_count": null,
      "outputs": []
    },
    {
      "cell_type": "code",
      "source": [
        "\n",
        "print('a') if a>b else print('b')"
      ],
      "metadata": {
        "colab": {
          "base_uri": "https://localhost:8080/"
        },
        "id": "Mk09NFJxGFN3",
        "outputId": "c73dfc2d-a8f5-459b-b409-43fc0525722d"
      },
      "execution_count": null,
      "outputs": [
        {
          "output_type": "stream",
          "name": "stdout",
          "text": [
            "b\n"
          ]
        }
      ]
    },
    {
      "cell_type": "code",
      "source": [
        " #if with 3 conditions\n",
        "print('a') if a>b else print('=') if a==b else print('b')"
      ],
      "metadata": {
        "colab": {
          "base_uri": "https://localhost:8080/"
        },
        "id": "UCjw1oYnGP2u",
        "outputId": "e6f47b8a-455e-46a4-e5ab-e3f9b069803b"
      },
      "execution_count": null,
      "outputs": [
        {
          "output_type": "stream",
          "name": "stdout",
          "text": [
            "b\n"
          ]
        }
      ]
    },
    {
      "cell_type": "code",
      "source": [
        "a=23\n",
        "b=12\n",
        "c=34"
      ],
      "metadata": {
        "id": "BgKQAdhUJ2vh"
      },
      "execution_count": null,
      "outputs": []
    },
    {
      "cell_type": "code",
      "source": [
        "#and\n",
        "if a>b and a>c:\n",
        "  print('both are true')"
      ],
      "metadata": {
        "id": "2z3wUjPmHWDT"
      },
      "execution_count": null,
      "outputs": []
    },
    {
      "cell_type": "code",
      "source": [
        "#or\n",
        "if a>c or a>b:\n",
        "    print('one is true')"
      ],
      "metadata": {
        "id": "NbfKxpYCH9tS",
        "colab": {
          "base_uri": "https://localhost:8080/"
        },
        "outputId": "ad75b8f1-ce98-48d6-866a-11ce24eaa9cf"
      },
      "execution_count": null,
      "outputs": [
        {
          "output_type": "stream",
          "name": "stdout",
          "text": [
            "one is true\n"
          ]
        }
      ]
    },
    {
      "cell_type": "code",
      "source": [
        "#not\n",
        "if not a>b:\n",
        "    print('a is not greater than b')"
      ],
      "metadata": {
        "id": "Ep-5cn4hIQGE"
      },
      "execution_count": null,
      "outputs": []
    },
    {
      "cell_type": "code",
      "source": [
        "#nested if\n",
        "x=48\n",
        "if x>10:\n",
        "    print('x is greater than 10')\n",
        "    if x>20:\n",
        "     print('x. is greater than 20')\n",
        "    else:\n",
        "      print('x is small')"
      ],
      "metadata": {
        "colab": {
          "base_uri": "https://localhost:8080/"
        },
        "id": "4lsfGaRZIeSO",
        "outputId": "dfeac1de-a587-4c99-d0fe-ed3b0d6ae529"
      },
      "execution_count": null,
      "outputs": [
        {
          "output_type": "stream",
          "name": "stdout",
          "text": [
            "x is greater than 10\n",
            "x. is greater than 20\n"
          ]
        }
      ]
    },
    {
      "cell_type": "code",
      "source": [
        "a=34\n",
        "b=78\n",
        "if a>b:\n",
        "  pass"
      ],
      "metadata": {
        "id": "M522jdEfJQ3n"
      },
      "execution_count": null,
      "outputs": []
    },
    {
      "cell_type": "code",
      "source": [],
      "metadata": {
        "id": "hvxL_dstJbIB"
      },
      "execution_count": null,
      "outputs": []
    }
  ]
}