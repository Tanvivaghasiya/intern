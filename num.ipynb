{
  "nbformat": 4,
  "nbformat_minor": 0,
  "metadata": {
    "colab": {
      "provenance": []
    },
    "kernelspec": {
      "name": "python3",
      "display_name": "Python 3"
    },
    "language_info": {
      "name": "python"
    }
  },
  "cells": [
    {
      "cell_type": "code",
      "execution_count": null,
      "metadata": {
        "colab": {
          "base_uri": "https://localhost:8080/"
        },
        "id": "wcMHC3xtu2lT",
        "outputId": "199eb7f9-1820-44b7-de95-1b9ee05ed99f"
      },
      "outputs": [
        {
          "output_type": "stream",
          "name": "stdout",
          "text": [
            "<class 'int'>\n",
            "<class 'float'>\n",
            "<class 'complex'>\n"
          ]
        }
      ],
      "source": [
        "a=2 #int\n",
        "b=40.5 #float\n",
        "c=5j #complex\n",
        "print(type(a))\n",
        "print(type(b))\n",
        "print(type(c))\n",
        "\n"
      ]
    },
    {
      "cell_type": "markdown",
      "source": [
        "int"
      ],
      "metadata": {
        "id": "fLu08fSzvTuv"
      }
    },
    {
      "cell_type": "code",
      "source": [
        "a=2\n",
        "b=5489480\n",
        "c=-7689549849859\n",
        "print(type(a))\n",
        "print(type(b))\n",
        "print(type(c))\n"
      ],
      "metadata": {
        "colab": {
          "base_uri": "https://localhost:8080/"
        },
        "id": "y-OHUl2rvUjn",
        "outputId": "212f7ac4-3735-47d4-f5a4-5dc83d5c699c"
      },
      "execution_count": null,
      "outputs": [
        {
          "output_type": "stream",
          "name": "stdout",
          "text": [
            "<class 'int'>\n",
            "<class 'int'>\n",
            "<class 'int'>\n"
          ]
        }
      ]
    },
    {
      "cell_type": "markdown",
      "source": [
        "float"
      ],
      "metadata": {
        "id": "qchfRbPTvgmk"
      }
    },
    {
      "cell_type": "code",
      "source": [
        "a=50.8\n",
        "b=-89.90\n",
        "c=20.3\n",
        "d=20.400\n",
        "\n",
        "print(type(a))\n",
        "print(type(b))\n",
        "print(type(c))\n",
        "print(type(d))\n"
      ],
      "metadata": {
        "colab": {
          "base_uri": "https://localhost:8080/"
        },
        "id": "HML9GQqWvhcl",
        "outputId": "1300e4c5-59aa-4bad-e5f1-51e063e25830"
      },
      "execution_count": null,
      "outputs": [
        {
          "output_type": "stream",
          "name": "stdout",
          "text": [
            "<class 'float'>\n",
            "<class 'float'>\n",
            "<class 'float'>\n",
            "<class 'float'>\n"
          ]
        }
      ]
    },
    {
      "cell_type": "code",
      "source": [
        "a=50e8\n",
        "b=-89E90\n",
        "c=20.3\n",
        "d=20.4e0\n",
        "\n",
        "print(type(a))\n",
        "print(type(b))\n",
        "print(type(c))\n",
        "print(type(d))\n"
      ],
      "metadata": {
        "colab": {
          "base_uri": "https://localhost:8080/"
        },
        "id": "YI1AoayhvuQ1",
        "outputId": "969675cc-ce8f-4498-85bb-7cc836f37831"
      },
      "execution_count": null,
      "outputs": [
        {
          "output_type": "stream",
          "name": "stdout",
          "text": [
            "<class 'float'>\n",
            "<class 'float'>\n",
            "<class 'float'>\n",
            "<class 'float'>\n"
          ]
        }
      ]
    },
    {
      "cell_type": "markdown",
      "source": [
        "complex"
      ],
      "metadata": {
        "id": "lJnZ5QnYwV9I"
      }
    },
    {
      "cell_type": "code",
      "source": [
        "a=6j\n",
        "b=-8j\n",
        "c=8+5j\n",
        "\n",
        "print(type(a))\n",
        "print(type(b))\n",
        "print(type(c))\n"
      ],
      "metadata": {
        "colab": {
          "base_uri": "https://localhost:8080/"
        },
        "id": "wKmiAQYjwXhf",
        "outputId": "8638d371-014b-4738-c853-2ca34f5957dd"
      },
      "execution_count": null,
      "outputs": [
        {
          "output_type": "stream",
          "name": "stdout",
          "text": [
            "<class 'complex'>\n",
            "<class 'complex'>\n",
            "<class 'complex'>\n"
          ]
        }
      ]
    },
    {
      "cell_type": "markdown",
      "source": [
        "typecasting"
      ],
      "metadata": {
        "id": "HKprdCq9wrNe"
      }
    },
    {
      "cell_type": "code",
      "source": [
        "a=5 #int\n",
        "b=70.5 #float\n",
        "c=5+9j #complex\n",
        "\n",
        "a=float(a)\n",
        "b=int(b)\n",
        "c=complex(c)\n",
        "\n",
        "print(a)\n",
        "print(b)\n",
        "print(c)\n",
        "\n",
        "print(type(a))\n",
        "print(type(b))\n",
        "print(type(c))\n",
        "\n"
      ],
      "metadata": {
        "colab": {
          "base_uri": "https://localhost:8080/"
        },
        "id": "PpxPxuIHws5Z",
        "outputId": "b733a233-2fa4-4c4c-8653-a06cf20e18f5"
      },
      "execution_count": null,
      "outputs": [
        {
          "output_type": "stream",
          "name": "stdout",
          "text": [
            "5.0\n",
            "70\n",
            "(5+9j)\n",
            "<class 'float'>\n",
            "<class 'int'>\n",
            "<class 'complex'>\n"
          ]
        }
      ]
    },
    {
      "cell_type": "markdown",
      "source": [
        "randomnum"
      ],
      "metadata": {
        "id": "UU0zQQyVxi0X"
      }
    },
    {
      "cell_type": "code",
      "source": [
        "import random\n",
        "print(random.randrange(0,10))"
      ],
      "metadata": {
        "colab": {
          "base_uri": "https://localhost:8080/"
        },
        "id": "mBGHAasbxlie",
        "outputId": "21b02633-8430-411d-a121-7e2597b09a95"
      },
      "execution_count": null,
      "outputs": [
        {
          "output_type": "stream",
          "name": "stdout",
          "text": [
            "5\n"
          ]
        }
      ]
    }
  ]
}