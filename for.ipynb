{
  "nbformat": 4,
  "nbformat_minor": 0,
  "metadata": {
    "colab": {
      "provenance": []
    },
    "kernelspec": {
      "name": "python3",
      "display_name": "Python 3"
    },
    "language_info": {
      "name": "python"
    }
  },
  "cells": [
    {
      "cell_type": "code",
      "execution_count": 1,
      "metadata": {
        "colab": {
          "base_uri": "https://localhost:8080/"
        },
        "id": "42gHuCedMCov",
        "outputId": "4cfd778b-0707-4c3d-f38e-efbbbd620296"
      },
      "outputs": [
        {
          "output_type": "stream",
          "name": "stdout",
          "text": [
            "car\n",
            "bike\n",
            "cycle\n"
          ]
        }
      ],
      "source": [
        "s1=['car','bike','cycle']\n",
        "for x in s1:\n",
        "  print(x)"
      ]
    },
    {
      "cell_type": "code",
      "source": [
        " #loop through string\n",
        "for x in 'car':\n",
        "    print(x)\n"
      ],
      "metadata": {
        "colab": {
          "base_uri": "https://localhost:8080/"
        },
        "id": "QHoUdoxrMQks",
        "outputId": "8a735bc3-b623-4993-8166-6b96fdc6823a"
      },
      "execution_count": 2,
      "outputs": [
        {
          "output_type": "stream",
          "name": "stdout",
          "text": [
            "c\n",
            "a\n",
            "r\n"
          ]
        }
      ]
    },
    {
      "cell_type": "code",
      "source": [
        "for x in s1:\n",
        "  print(x)\n",
        "  if x=='car':\n",
        "    break"
      ],
      "metadata": {
        "colab": {
          "base_uri": "https://localhost:8080/"
        },
        "id": "XmGPOzYpMagj",
        "outputId": "92f771b8-d0be-44a6-e9b2-48b2a0923ff1"
      },
      "execution_count": 3,
      "outputs": [
        {
          "output_type": "stream",
          "name": "stdout",
          "text": [
            "car\n"
          ]
        }
      ]
    },
    {
      "cell_type": "code",
      "source": [
        "for x in s1:\n",
        "  print(x)\n",
        "  if x=='car':\n",
        "    continue"
      ],
      "metadata": {
        "colab": {
          "base_uri": "https://localhost:8080/"
        },
        "id": "Y3bDuwQyMs8v",
        "outputId": "f7942bf9-994a-4f3d-f267-77706a7eb1e9"
      },
      "execution_count": 4,
      "outputs": [
        {
          "output_type": "stream",
          "name": "stdout",
          "text": [
            "car\n",
            "bike\n",
            "cycle\n"
          ]
        }
      ]
    },
    {
      "cell_type": "markdown",
      "source": [
        "range fun"
      ],
      "metadata": {
        "id": "NFOICcrhNFoP"
      }
    },
    {
      "cell_type": "code",
      "source": [
        "for x in range(9):\n",
        "    print(x)"
      ],
      "metadata": {
        "colab": {
          "base_uri": "https://localhost:8080/"
        },
        "id": "uv7iwRpwM2hy",
        "outputId": "e1361ea8-d02c-4194-f3d3-f90cf7f25822"
      },
      "execution_count": 5,
      "outputs": [
        {
          "output_type": "stream",
          "name": "stdout",
          "text": [
            "0\n",
            "1\n",
            "2\n",
            "3\n",
            "4\n",
            "5\n",
            "6\n",
            "7\n",
            "8\n"
          ]
        }
      ]
    },
    {
      "cell_type": "code",
      "source": [
        "for x in range(3,7):\n",
        "    print(x)"
      ],
      "metadata": {
        "colab": {
          "base_uri": "https://localhost:8080/"
        },
        "id": "pZP2aF3XM9nM",
        "outputId": "d5c55730-3a39-4c23-a542-a4b3e9790b18"
      },
      "execution_count": null,
      "outputs": [
        {
          "output_type": "stream",
          "name": "stdout",
          "text": [
            "3\n",
            "4\n",
            "5\n",
            "6\n"
          ]
        }
      ]
    },
    {
      "cell_type": "code",
      "source": [
        "for x in range(3,40,4):\n",
        "    print(x)"
      ],
      "metadata": {
        "colab": {
          "base_uri": "https://localhost:8080/"
        },
        "id": "L1e9D4pyNNUf",
        "outputId": "72738227-d827-495f-8f02-d2b102ebd091"
      },
      "execution_count": null,
      "outputs": [
        {
          "output_type": "stream",
          "name": "stdout",
          "text": [
            "3\n",
            "7\n",
            "11\n",
            "15\n",
            "19\n",
            "23\n",
            "27\n",
            "31\n",
            "35\n",
            "39\n"
          ]
        }
      ]
    },
    {
      "cell_type": "code",
      "source": [
        "#else in for loop\n",
        "for x in range(4):\n",
        "  print(x)\n",
        "else:\n",
        "  print('finish')\n"
      ],
      "metadata": {
        "colab": {
          "base_uri": "https://localhost:8080/"
        },
        "id": "hvfCHED8NVrz",
        "outputId": "1ff2534a-efac-41cf-bc2a-cf78d309f7e3"
      },
      "execution_count": null,
      "outputs": [
        {
          "output_type": "stream",
          "name": "stdout",
          "text": [
            "0\n",
            "1\n",
            "2\n",
            "3\n",
            "finish\n"
          ]
        }
      ]
    },
    {
      "cell_type": "code",
      "source": [
        "for x in range(6):\n",
        "  if x==3:break\n",
        "  print(x)\n",
        "else:\n",
        "    print('finish')"
      ],
      "metadata": {
        "colab": {
          "base_uri": "https://localhost:8080/"
        },
        "id": "CBLcclpoNty0",
        "outputId": "ad5ba47a-bf40-4678-83e1-468fa81e5321"
      },
      "execution_count": null,
      "outputs": [
        {
          "output_type": "stream",
          "name": "stdout",
          "text": [
            "0\n",
            "1\n",
            "2\n"
          ]
        }
      ]
    },
    {
      "cell_type": "code",
      "source": [
        "#neted loops\n",
        "s1=['red','blue','orange']\n",
        "s2=['apple','mango','kiwi']\n",
        "for x in s1:\n",
        "  for y in s2:\n",
        "    print(x,y)"
      ],
      "metadata": {
        "colab": {
          "base_uri": "https://localhost:8080/"
        },
        "id": "ETSuJDQOOAUO",
        "outputId": "210159ef-45d9-4204-a53c-1c3ab6b254b4"
      },
      "execution_count": null,
      "outputs": [
        {
          "output_type": "stream",
          "name": "stdout",
          "text": [
            "red apple\n",
            "red mango\n",
            "red kiwi\n",
            "blue apple\n",
            "blue mango\n",
            "blue kiwi\n",
            "orange apple\n",
            "orange mango\n",
            "orange kiwi\n"
          ]
        }
      ]
    },
    {
      "cell_type": "code",
      "source": [
        "for x in [1,2,3]:\n",
        "    pass"
      ],
      "metadata": {
        "id": "r-eqMndhOyCo"
      },
      "execution_count": null,
      "outputs": []
    }
  ]
}