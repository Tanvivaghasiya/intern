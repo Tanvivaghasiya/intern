{
  "nbformat": 4,
  "nbformat_minor": 0,
  "metadata": {
    "colab": {
      "provenance": []
    },
    "kernelspec": {
      "name": "python3",
      "display_name": "Python 3"
    },
    "language_info": {
      "name": "python"
    }
  },
  "cells": [
    {
      "cell_type": "code",
      "execution_count": 1,
      "metadata": {
        "id": "r4VbiRd78P0s"
      },
      "outputs": [],
      "source": [
        "import pandas as pd\n"
      ]
    },
    {
      "cell_type": "code",
      "source": [
        "a=\"/content/Restaurant_Reviews.tsv\"\n",
        "data=pd.read_csv(a,sep=\"\\t\")"
      ],
      "metadata": {
        "id": "ZfqSjrXV_o57"
      },
      "execution_count": 2,
      "outputs": []
    },
    {
      "cell_type": "code",
      "source": [
        "print(data.head())"
      ],
      "metadata": {
        "colab": {
          "base_uri": "https://localhost:8080/"
        },
        "id": "1HW3oXmX_9Yo",
        "outputId": "5f7e5457-64df-444f-9cc1-0fbcbefdb863"
      },
      "execution_count": 3,
      "outputs": [
        {
          "output_type": "stream",
          "name": "stdout",
          "text": [
            "                                              Review  Liked\n",
            "0                           Wow... Loved this place.      1\n",
            "1                                 Crust is not good.      0\n",
            "2          Not tasty and the texture was just nasty.      0\n",
            "3  Stopped by during the late May bank holiday of...      1\n",
            "4  The selection on the menu was great and so wer...      1\n"
          ]
        }
      ]
    },
    {
      "cell_type": "code",
      "source": [
        "s = data['Review'].dropna().str.lower().str.split()\n",
        "print(\"Tokenized Sentences:\", s.head())"
      ],
      "metadata": {
        "colab": {
          "base_uri": "https://localhost:8080/"
        },
        "id": "KrK3IbpI__wu",
        "outputId": "3902fedd-4390-4745-d4ca-4746b945c908"
      },
      "execution_count": 4,
      "outputs": [
        {
          "output_type": "stream",
          "name": "stdout",
          "text": [
            "Tokenized Sentences: 0                        [wow..., loved, this, place.]\n",
            "1                              [crust, is, not, good.]\n",
            "2    [not, tasty, and, the, texture, was, just, nas...\n",
            "3    [stopped, by, during, the, late, may, bank, ho...\n",
            "4    [the, selection, on, the, menu, was, great, an...\n",
            "Name: Review, dtype: object\n"
          ]
        }
      ]
    },
    {
      "cell_type": "code",
      "source": [
        "from gensim.models import Word2Vec"
      ],
      "metadata": {
        "id": "q3xMdXvXAU0I"
      },
      "execution_count": 5,
      "outputs": []
    },
    {
      "cell_type": "code",
      "source": [
        "m=Word2Vec(window=2,min_count=1,sentences=s.tolist(),vector_size=80)"
      ],
      "metadata": {
        "id": "kRN9nQyhAeSz"
      },
      "execution_count": 8,
      "outputs": []
    },
    {
      "cell_type": "code",
      "source": [
        "m"
      ],
      "metadata": {
        "colab": {
          "base_uri": "https://localhost:8080/"
        },
        "id": "P0pvw2eOA5dV",
        "outputId": "8d3bcf66-1b1a-4cff-8398-e3754972af1d"
      },
      "execution_count": 9,
      "outputs": [
        {
          "output_type": "execute_result",
          "data": {
            "text/plain": [
              "<gensim.models.word2vec.Word2Vec at 0x7c3570967950>"
            ]
          },
          "metadata": {},
          "execution_count": 9
        }
      ]
    },
    {
      "cell_type": "code",
      "source": [
        "similar_word=m.wv.most_similar('food',topn=5)"
      ],
      "metadata": {
        "id": "_A6oSLA-BC2x"
      },
      "execution_count": 10,
      "outputs": []
    },
    {
      "cell_type": "code",
      "source": [
        "similar_word"
      ],
      "metadata": {
        "colab": {
          "base_uri": "https://localhost:8080/"
        },
        "id": "ZJcUkIQmBbNL",
        "outputId": "b4661ff6-ad4f-4ee0-f029-a61667b8b9e4"
      },
      "execution_count": 11,
      "outputs": [
        {
          "output_type": "execute_result",
          "data": {
            "text/plain": [
              "[('was', 0.9300421476364136),\n",
              " ('and', 0.9274235963821411),\n",
              " ('the', 0.9252976179122925),\n",
              " ('for', 0.9246987700462341),\n",
              " ('a', 0.9237108826637268)]"
            ]
          },
          "metadata": {},
          "execution_count": 11
        }
      ]
    }
  ]
}