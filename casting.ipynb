{
  "nbformat": 4,
  "nbformat_minor": 0,
  "metadata": {
    "colab": {
      "provenance": []
    },
    "kernelspec": {
      "name": "python3",
      "display_name": "Python 3"
    },
    "language_info": {
      "name": "python"
    }
  },
  "cells": [
    {
      "cell_type": "code",
      "source": [
        "a=int(2) #int\n",
        "b=int(4.6)#float\n",
        "c=int('3')#string\n",
        "\n",
        "print(a)\n",
        "print(b)\n",
        "print(c)\n",
        "\n"
      ],
      "metadata": {
        "colab": {
          "base_uri": "https://localhost:8080/"
        },
        "id": "ZlZ6ddqIykRa",
        "outputId": "1e1fbb5e-0348-4e9b-b314-4098ff17031b"
      },
      "execution_count": null,
      "outputs": [
        {
          "output_type": "stream",
          "name": "stdout",
          "text": [
            "2\n",
            "4\n",
            "3\n"
          ]
        }
      ]
    },
    {
      "cell_type": "code",
      "execution_count": null,
      "metadata": {
        "colab": {
          "base_uri": "https://localhost:8080/"
        },
        "id": "wtVZBzudyFJu",
        "outputId": "f9c12d25-aa90-4324-cbc4-0192fe35bc9a"
      },
      "outputs": [
        {
          "output_type": "stream",
          "name": "stdout",
          "text": [
            "2.0\n",
            "4.6\n",
            "3.0\n"
          ]
        }
      ],
      "source": [
        "a=float(2) #int\n",
        "b=float(4.6)#float\n",
        "c=float('3')#string\n",
        "\n",
        "print(a)\n",
        "print(b)\n",
        "print(c)"
      ]
    },
    {
      "cell_type": "code",
      "source": [
        "a=str(2) #int\n",
        "b=str(4.6)#float\n",
        "c=str('3')#string\n",
        "\n",
        "print(a)\n",
        "print(b)\n",
        "print(c)"
      ],
      "metadata": {
        "id": "wHH-DHCGzUWi",
        "outputId": "e517fa7d-7488-4311-86aa-873110233112",
        "colab": {
          "base_uri": "https://localhost:8080/"
        }
      },
      "execution_count": null,
      "outputs": [
        {
          "output_type": "stream",
          "name": "stdout",
          "text": [
            "2\n",
            "4.6\n",
            "3\n"
          ]
        }
      ]
    }
  ]
}