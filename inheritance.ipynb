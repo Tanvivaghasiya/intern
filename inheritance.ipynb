{
  "nbformat": 4,
  "nbformat_minor": 0,
  "metadata": {
    "colab": {
      "provenance": []
    },
    "kernelspec": {
      "name": "python3",
      "display_name": "Python 3"
    },
    "language_info": {
      "name": "python"
    }
  },
  "cells": [
    {
      "cell_type": "code",
      "execution_count": 1,
      "metadata": {
        "colab": {
          "base_uri": "https://localhost:8080/"
        },
        "id": "xbzbkytENZNs",
        "outputId": "40eb96d9-8647-4bbb-85f9-4e5504e850be"
      },
      "outputs": [
        {
          "output_type": "stream",
          "name": "stdout",
          "text": [
            "john barks\n",
            "None\n"
          ]
        }
      ],
      "source": [
        "class Animal:\n",
        "  def __init__(self,name):\n",
        "    self.name=name\n",
        "  def speak(self):\n",
        "      pass\n",
        "\n",
        "class Dog(Animal):\n",
        "    def speak(self):\n",
        "     print((self.name),\"barks\")\n",
        "dog = Dog('john')\n",
        "print(dog.speak())"
      ]
    },
    {
      "cell_type": "code",
      "source": [
        "class Dog(Animal):\n",
        "  pass"
      ],
      "metadata": {
        "id": "Ogn5b9bG_XoI"
      },
      "execution_count": 2,
      "outputs": []
    },
    {
      "cell_type": "code",
      "source": [
        "#super fun\n",
        "class Dog(Animal):\n",
        "  def __init__(self,name):\n",
        "    super().__init__(name)\n",
        "x=Dog('john')\n",
        "print(x.name)\n"
      ],
      "metadata": {
        "colab": {
          "base_uri": "https://localhost:8080/"
        },
        "id": "U_X5-bak_bTC",
        "outputId": "59206e91-0b68-4fd9-8cd9-2999a03fb44d"
      },
      "execution_count": 3,
      "outputs": [
        {
          "output_type": "stream",
          "name": "stdout",
          "text": [
            "john\n"
          ]
        }
      ]
    },
    {
      "cell_type": "code",
      "source": [
        "#add properties\n",
        "class Dog(Animal):\n",
        "  def __init__(self,name):\n",
        "    super().__init__(name)\n",
        "    self.age=4\n",
        "x=Dog('john')\n",
        "print(x.age)"
      ],
      "metadata": {
        "colab": {
          "base_uri": "https://localhost:8080/"
        },
        "id": "Fhuy8027_WpP",
        "outputId": "4bd0a357-84ee-4c5e-8e10-96d4953c28dc"
      },
      "execution_count": 4,
      "outputs": [
        {
          "output_type": "stream",
          "name": "stdout",
          "text": [
            "4\n"
          ]
        }
      ]
    },
    {
      "cell_type": "code",
      "source": [
        "#add methods\n",
        "class Dog(Animal):\n",
        "  def __init__(self,name,age):\n",
        "    super().__init__(name)\n",
        "    self.age=age\n",
        "  def hello(self):\n",
        "      print('my name is',self.name,'and i am',self.age,'years old')\n",
        "x=Dog('john',6)\n",
        "print(x.hello())"
      ],
      "metadata": {
        "colab": {
          "base_uri": "https://localhost:8080/"
        },
        "id": "7OO7YuVJBMia",
        "outputId": "ea85faa9-1d1b-463e-d632-3ab3243dd9dd"
      },
      "execution_count": 9,
      "outputs": [
        {
          "output_type": "stream",
          "name": "stdout",
          "text": [
            "my name is john and i am 6 years old\n",
            "None\n"
          ]
        }
      ]
    }
  ]
}