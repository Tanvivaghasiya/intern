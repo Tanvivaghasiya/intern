{
  "nbformat": 4,
  "nbformat_minor": 0,
  "metadata": {
    "colab": {
      "provenance": []
    },
    "kernelspec": {
      "name": "python3",
      "display_name": "Python 3"
    },
    "language_info": {
      "name": "python"
    }
  },
  "cells": [
    {
      "cell_type": "code",
      "execution_count": 2,
      "metadata": {
        "id": "cLbkfJ0cf6wY"
      },
      "outputs": [],
      "source": [
        "class p1:\n",
        "  x=5"
      ]
    },
    {
      "cell_type": "code",
      "source": [
        "class p1:\n",
        "  x=5\n",
        "a1=p1()\n",
        "print(a1.x)\n"
      ],
      "metadata": {
        "colab": {
          "base_uri": "https://localhost:8080/"
        },
        "id": "ppv8qnc7glFn",
        "outputId": "1cfb5350-abda-4eb1-c49c-c423f0e46c46"
      },
      "execution_count": null,
      "outputs": [
        {
          "output_type": "stream",
          "name": "stdout",
          "text": [
            "5\n"
          ]
        }
      ]
    },
    {
      "cell_type": "code",
      "source": [
        "class per:\n",
        "  def __init__(self,name,age):\n",
        "    self.name=name\n",
        "    self.age=age"
      ],
      "metadata": {
        "id": "q674FsR1mEQY"
      },
      "execution_count": 1,
      "outputs": []
    },
    {
      "cell_type": "code",
      "source": [
        "#init function\n",
        "p1=per('abc',32)\n",
        "print(p1.name)\n",
        "print(p1.age)"
      ],
      "metadata": {
        "colab": {
          "base_uri": "https://localhost:8080/"
        },
        "id": "WhuAo8tJLxF7",
        "outputId": "6d1cb3af-2c51-4c52-988e-4d73f5d1089c"
      },
      "execution_count": 3,
      "outputs": [
        {
          "output_type": "stream",
          "name": "stdout",
          "text": [
            "abc\n",
            "32\n"
          ]
        }
      ]
    },
    {
      "cell_type": "code",
      "source": [
        "#__str__() function\n",
        "class per:\n",
        "  def __init__(self,name,age):\n",
        "    self.name=name\n",
        "    self.age=age\n",
        "  def __str__(self):\n",
        "    return f\"{self.name}({self.age})\"\n",
        "p1=per('pqr',45)\n",
        "print(p1)"
      ],
      "metadata": {
        "colab": {
          "base_uri": "https://localhost:8080/"
        },
        "id": "l6ZjUW-sMqen",
        "outputId": "6fb6c72b-7e15-4a76-93fe-efa655e7ed05"
      },
      "execution_count": 6,
      "outputs": [
        {
          "output_type": "stream",
          "name": "stdout",
          "text": [
            "pqr(45)\n"
          ]
        }
      ]
    },
    {
      "cell_type": "code",
      "source": [
        "#object methods\n",
        "class person:\n",
        "  def __init__(self,name,age):\n",
        "   self.name=name\n",
        "   self.age=age\n",
        "  def function(self):\n",
        "    print('my name is'+ self.name)\n",
        "p1=person('abc',12)\n",
        "p1.function()\n"
      ],
      "metadata": {
        "colab": {
          "base_uri": "https://localhost:8080/"
        },
        "id": "xOsYGF3uNp72",
        "outputId": "23f74e47-dae5-49e0-c5b3-165c9da2ec0f"
      },
      "execution_count": 8,
      "outputs": [
        {
          "output_type": "stream",
          "name": "stdout",
          "text": [
            "my name isabc\n"
          ]
        }
      ]
    },
    {
      "cell_type": "code",
      "source": [
        "#self parameter\n",
        "class per:\n",
        "  def __init__(my,name,age):\n",
        "    my.name=name\n",
        "    my.age=age\n",
        "  def fun1(abc):\n",
        "    print('my name is'+abc.name)\n",
        "p1=per('abc',34)\n",
        "p1.fun1()"
      ],
      "metadata": {
        "colab": {
          "base_uri": "https://localhost:8080/"
        },
        "id": "sKxHABSMOiLr",
        "outputId": "17be6235-95fa-4d4a-cef6-26c5069c58d3"
      },
      "execution_count": 10,
      "outputs": [
        {
          "output_type": "stream",
          "name": "stdout",
          "text": [
            "my name isabc\n"
          ]
        }
      ]
    },
    {
      "cell_type": "code",
      "source": [
        "#modify object parameter\n",
        "class per:\n",
        "  def __init__(self,name,age):\n",
        "    self.name=name\n",
        "    self.age=age\n",
        "  def fun1(self):\n",
        "    print('my name is'+ self.name)\n",
        "p1=per('abc',67)\n",
        "p1.age=40\n",
        "print(p1.age)"
      ],
      "metadata": {
        "colab": {
          "base_uri": "https://localhost:8080/"
        },
        "id": "LIPJwahOQLoW",
        "outputId": "2e2e35c6-7826-48f9-e9f4-12c30b2d02a8"
      },
      "execution_count": null,
      "outputs": [
        {
          "output_type": "stream",
          "name": "stdout",
          "text": [
            "40\n"
          ]
        }
      ]
    },
    {
      "cell_type": "code",
      "source": [
        "#delete object.          it will give error\n",
        "class per:\n",
        "  def __init__(my,name,age):\n",
        "    my.name=name\n",
        "    my.age=age\n",
        "  def fun1(my):\n",
        "    print('my name is'+my.name)\n",
        "p1=per('abc',23)\n",
        "del p1\n",
        "print(p1)"
      ],
      "metadata": {
        "colab": {
          "base_uri": "https://localhost:8080/",
          "height": 180
        },
        "id": "YitivohIQo9B",
        "outputId": "18c62504-3971-4b76-b452-942869effce9"
      },
      "execution_count": null,
      "outputs": [
        {
          "output_type": "error",
          "ename": "NameError",
          "evalue": "name 'p1' is not defined",
          "traceback": [
            "\u001b[0;31m---------------------------------------------------------------------------\u001b[0m",
            "\u001b[0;31mNameError\u001b[0m                                 Traceback (most recent call last)",
            "\u001b[0;32m<ipython-input-19-fd797d163c86>\u001b[0m in \u001b[0;36m<cell line: 10>\u001b[0;34m()\u001b[0m\n\u001b[1;32m      8\u001b[0m \u001b[0mp1\u001b[0m\u001b[0;34m=\u001b[0m\u001b[0mper\u001b[0m\u001b[0;34m(\u001b[0m\u001b[0;34m'abc'\u001b[0m\u001b[0;34m,\u001b[0m\u001b[0;36m23\u001b[0m\u001b[0;34m)\u001b[0m\u001b[0;34m\u001b[0m\u001b[0;34m\u001b[0m\u001b[0m\n\u001b[1;32m      9\u001b[0m \u001b[0;32mdel\u001b[0m \u001b[0mp1\u001b[0m\u001b[0;34m\u001b[0m\u001b[0;34m\u001b[0m\u001b[0m\n\u001b[0;32m---> 10\u001b[0;31m \u001b[0mprint\u001b[0m\u001b[0;34m(\u001b[0m\u001b[0mp1\u001b[0m\u001b[0;34m)\u001b[0m\u001b[0;34m\u001b[0m\u001b[0;34m\u001b[0m\u001b[0m\n\u001b[0m",
            "\u001b[0;31mNameError\u001b[0m: name 'p1' is not defined"
          ]
        }
      ]
    },
    {
      "cell_type": "code",
      "source": [
        "#pass statement\n",
        "class per:\n",
        "  pass"
      ],
      "metadata": {
        "id": "8QzpknfxRS4C"
      },
      "execution_count": null,
      "outputs": []
    },
    {
      "cell_type": "code",
      "source": [],
      "metadata": {
        "id": "wiCt9JNAQe3Y"
      },
      "execution_count": null,
      "outputs": []
    }
  ]
}