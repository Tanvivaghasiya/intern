{
  "nbformat": 4,
  "nbformat_minor": 0,
  "metadata": {
    "colab": {
      "provenance": []
    },
    "kernelspec": {
      "name": "python3",
      "display_name": "Python 3"
    },
    "language_info": {
      "name": "python"
    }
  },
  "cells": [
    {
      "cell_type": "code",
      "execution_count": 9,
      "metadata": {
        "colab": {
          "base_uri": "https://localhost:8080/"
        },
        "id": "mq2P-Fv9D1ZV",
        "outputId": "f657e3f6-8604-424a-ba66-0337c54dfcff"
      },
      "outputs": [
        {
          "output_type": "stream",
          "name": "stdout",
          "text": [
            "Drive\n",
            "Fly\n"
          ]
        }
      ],
      "source": [
        "class Car:\n",
        "  def __init__(self, brand, model):\n",
        "    self.brand = brand\n",
        "    self.model = model\n",
        "\n",
        "  def move(self):\n",
        "    print(\"Drive\")\n",
        "\n",
        "class Plane:\n",
        "  def __init__(self, brand, model):\n",
        "    self.brand=brand\n",
        "    self.model=model\n",
        "\n",
        "  def move(self):\n",
        "    print(\"Fly\")\n",
        "\n",
        "car1=Car(\"Ford\",\"Mustang\")\n",
        "plane1=Plane(\"Boeing\",\"747\")\n",
        "\n",
        "for x in (car1,plane1):\n",
        "  x.move()\n"
      ]
    },
    {
      "cell_type": "code",
      "source": [
        "#inheritance class polymorphism\n",
        "class Vehicle:\n",
        "  def __init__(self, brand, model):\n",
        "    self.brand=brand\n",
        "    self.model=model\n",
        "  def move(self):\n",
        "    print(\"Move\")\n",
        "class Car(Vehicle):\n",
        "  pass\n",
        "class Plane(Vehicle):\n",
        "  def move(self):\n",
        "    print(\"Fly\")\n",
        "car1=Car(\"Ford\",\"Mustang\")\n",
        "plane1=Plane(\"Boeing\",\"747\")\n",
        "for x in (car1,plane1):\n",
        "  print(x.brand)\n",
        "  print(x.model)\n",
        "  x.move()\n"
      ],
      "metadata": {
        "colab": {
          "base_uri": "https://localhost:8080/"
        },
        "id": "hU_81sRbF_gE",
        "outputId": "5f1d178a-420e-4d9a-cf21-543da6804b8a"
      },
      "execution_count": 10,
      "outputs": [
        {
          "output_type": "stream",
          "name": "stdout",
          "text": [
            "Ford\n",
            "Mustang\n",
            "Move\n",
            "Boeing\n",
            "747\n",
            "Fly\n"
          ]
        }
      ]
    },
    {
      "cell_type": "code",
      "source": [
        "#fun poolymorphism\n",
        "x='hello there'\n",
        "print(len(x))"
      ],
      "metadata": {
        "colab": {
          "base_uri": "https://localhost:8080/"
        },
        "id": "Mtjmkj6eGhNh",
        "outputId": "ae9ea016-7f3c-4e07-e01f-6975bad2c13b"
      },
      "execution_count": 11,
      "outputs": [
        {
          "output_type": "stream",
          "name": "stdout",
          "text": [
            "11\n"
          ]
        }
      ]
    }
  ]
}