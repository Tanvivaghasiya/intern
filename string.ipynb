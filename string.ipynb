{
  "nbformat": 4,
  "nbformat_minor": 0,
  "metadata": {
    "colab": {
      "provenance": []
    },
    "kernelspec": {
      "name": "python3",
      "display_name": "Python 3"
    },
    "language_info": {
      "name": "python"
    }
  },
  "cells": [
    {
      "cell_type": "code",
      "execution_count": null,
      "metadata": {
        "colab": {
          "base_uri": "https://localhost:8080/"
        },
        "id": "BqcQsRXrzrOf",
        "outputId": "8ce77cfe-97b2-4057-f0d3-df7fa8dc3824"
      },
      "outputs": [
        {
          "output_type": "stream",
          "name": "stdout",
          "text": [
            "hello\n",
            "hello\n"
          ]
        }
      ],
      "source": [
        "print('hello')\n",
        "print(\"hello\")"
      ]
    },
    {
      "cell_type": "markdown",
      "source": [
        "quotes inside quotes"
      ],
      "metadata": {
        "id": "gC8ztrMgz4g1"
      }
    },
    {
      "cell_type": "code",
      "source": [
        "print(\"I'm fine\")\n",
        "print(\"It's okay\")\n",
        "print('she called \"her\"')"
      ],
      "metadata": {
        "colab": {
          "base_uri": "https://localhost:8080/"
        },
        "id": "nPkD5dG7z8-H",
        "outputId": "ca31a477-2744-4d16-a6ab-9e3226d68786"
      },
      "execution_count": null,
      "outputs": [
        {
          "output_type": "stream",
          "name": "stdout",
          "text": [
            "I'm fine\n",
            "It's okay\n",
            "she called \"her\"\n"
          ]
        }
      ]
    },
    {
      "cell_type": "markdown",
      "source": [
        "assign string to variable"
      ],
      "metadata": {
        "id": "XCRWM7hf0asP"
      }
    },
    {
      "cell_type": "code",
      "source": [
        "a='dfgfth'\n",
        "print(a)"
      ],
      "metadata": {
        "colab": {
          "base_uri": "https://localhost:8080/"
        },
        "id": "ml9M58mt0du7",
        "outputId": "de6cbe37-5734-4485-9eb9-439624fa91f1"
      },
      "execution_count": null,
      "outputs": [
        {
          "output_type": "stream",
          "name": "stdout",
          "text": [
            "dfgfth\n"
          ]
        }
      ]
    },
    {
      "cell_type": "markdown",
      "source": [
        "multiline string"
      ],
      "metadata": {
        "id": "etpD7bL81YVH"
      }
    },
    {
      "cell_type": "code",
      "source": [
        "a=\"\"\"DL stands for Deep Learning,\n",
        "     and is the study that makes use of Neural Networks(similar to neurons present\n",
        "     in human brain) to imitate functionality just like a human brain.\n",
        "  \"\"\"\n",
        "print(a)"
      ],
      "metadata": {
        "colab": {
          "base_uri": "https://localhost:8080/"
        },
        "id": "wNn1aGa503Ol",
        "outputId": "cbc94876-975c-4542-86ef-56d4d1771e54"
      },
      "execution_count": null,
      "outputs": [
        {
          "output_type": "stream",
          "name": "stdout",
          "text": [
            "DL stands for Deep Learning,\n",
            "     and is the study that makes use of Neural Networks(similar to neurons present\n",
            "     in human brain) to imitate functionality just like a human brain.\n",
            "  \n"
          ]
        }
      ]
    },
    {
      "cell_type": "code",
      "source": [
        "a='''DL stands for Deep Learning,\n",
        "     and is the study that makes use of Neural Networks(similar to neurons present\n",
        "     in human brain) to imitate functionality just like a human brain.\n",
        "  '''\n",
        "print(a)"
      ],
      "metadata": {
        "colab": {
          "base_uri": "https://localhost:8080/"
        },
        "id": "_oNio7RD1K0W",
        "outputId": "b0fa1d94-601b-408f-cfcd-284fe53860eb"
      },
      "execution_count": null,
      "outputs": [
        {
          "output_type": "stream",
          "name": "stdout",
          "text": [
            "DL stands for Deep Learning,\n",
            "     and is the study that makes use of Neural Networks(similar to neurons present\n",
            "     in human brain) to imitate functionality just like a human brain.\n",
            "  \n"
          ]
        }
      ]
    },
    {
      "cell_type": "code",
      "source": [
        "#strings as array\n",
        "a='hello world'\n",
        "print(a[1])"
      ],
      "metadata": {
        "colab": {
          "base_uri": "https://localhost:8080/"
        },
        "id": "luhVWewU1PEh",
        "outputId": "3d20f3bc-5867-4cda-f9cd-8ca425b308e4"
      },
      "execution_count": null,
      "outputs": [
        {
          "output_type": "stream",
          "name": "stdout",
          "text": [
            "e\n"
          ]
        }
      ]
    },
    {
      "cell_type": "code",
      "source": [
        "for x in \"fruits\":        #loop through strings\n",
        "  print(x)"
      ],
      "metadata": {
        "colab": {
          "base_uri": "https://localhost:8080/"
        },
        "id": "JVLJrEE911SC",
        "outputId": "fe08e16c-5dcc-4700-da60-3de32e001e4f"
      },
      "execution_count": null,
      "outputs": [
        {
          "output_type": "stream",
          "name": "stdout",
          "text": [
            "f\n",
            "r\n",
            "u\n",
            "i\n",
            "t\n",
            "s\n"
          ]
        }
      ]
    },
    {
      "cell_type": "code",
      "source": [
        "#string length\n",
        "a='hello world'\n",
        "print(len(a))"
      ],
      "metadata": {
        "colab": {
          "base_uri": "https://localhost:8080/"
        },
        "id": "6XaA_REf2Gf6",
        "outputId": "8bd1ddf1-f343-4adb-ac1d-e3f7d8477d4f"
      },
      "execution_count": null,
      "outputs": [
        {
          "output_type": "stream",
          "name": "stdout",
          "text": [
            "11\n"
          ]
        }
      ]
    },
    {
      "cell_type": "code",
      "source": [
        "#check string\n",
        "a='ML stands for Machine Learning,'\n",
        "print(\"ML\"in a)"
      ],
      "metadata": {
        "colab": {
          "base_uri": "https://localhost:8080/"
        },
        "id": "uYv_0D0R2PRW",
        "outputId": "eaa95c81-5172-4da5-b620-d3c6c8994b08"
      },
      "execution_count": null,
      "outputs": [
        {
          "output_type": "stream",
          "name": "stdout",
          "text": [
            "True\n"
          ]
        }
      ]
    },
    {
      "cell_type": "code",
      "source": [
        "a='ML stands for Machine Learning,'           #using if statement\n",
        "if \"ML\" in a:\n",
        "  print(\"yes\")"
      ],
      "metadata": {
        "colab": {
          "base_uri": "https://localhost:8080/"
        },
        "id": "rVEyIWtZ2puq",
        "outputId": "b53012ea-4326-4ca0-c11a-e1c326f478c8"
      },
      "execution_count": null,
      "outputs": [
        {
          "output_type": "stream",
          "name": "stdout",
          "text": [
            "yes\n"
          ]
        }
      ]
    },
    {
      "cell_type": "code",
      "source": [
        "a='ML stands for Machine Learning,'           #using if not statement\n",
        "if \"DL\" not in a:\n",
        "  print(\"yes\")"
      ],
      "metadata": {
        "colab": {
          "base_uri": "https://localhost:8080/"
        },
        "id": "sGa4ulnX28Uu",
        "outputId": "356cf6cb-246c-4ce6-c812-9be5d8e76635"
      },
      "execution_count": null,
      "outputs": [
        {
          "output_type": "stream",
          "name": "stdout",
          "text": [
            "yes\n"
          ]
        }
      ]
    },
    {
      "cell_type": "code",
      "source": [
        "a='ML stands for Machine Learning,'\n",
        "print(\"DL\" not in a)"
      ],
      "metadata": {
        "colab": {
          "base_uri": "https://localhost:8080/"
        },
        "id": "eUv7Epj53N1k",
        "outputId": "5a2cfacf-5361-44c7-e214-322e2771df5d"
      },
      "execution_count": null,
      "outputs": [
        {
          "output_type": "stream",
          "name": "stdout",
          "text": [
            "True\n"
          ]
        }
      ]
    },
    {
      "cell_type": "markdown",
      "source": [
        "slicing strings"
      ],
      "metadata": {
        "id": "J2P1x8eh31KS"
      }
    },
    {
      "cell_type": "code",
      "source": [
        "a=\"hello world\"\n",
        "print(a[1:4])"
      ],
      "metadata": {
        "colab": {
          "base_uri": "https://localhost:8080/"
        },
        "id": "c1u8Kd9S33cC",
        "outputId": "cf42ac56-559c-4562-bd8c-4dec52f8559b"
      },
      "execution_count": null,
      "outputs": [
        {
          "output_type": "stream",
          "name": "stdout",
          "text": [
            "ell\n"
          ]
        }
      ]
    },
    {
      "cell_type": "code",
      "source": [
        "a=\"hello world\"   #slicing from the start\n",
        "print(a[:4])"
      ],
      "metadata": {
        "colab": {
          "base_uri": "https://localhost:8080/"
        },
        "id": "wGFFhMqD4PHV",
        "outputId": "6bca7884-44bd-45e6-9d26-5a5de8dcbb94"
      },
      "execution_count": null,
      "outputs": [
        {
          "output_type": "stream",
          "name": "stdout",
          "text": [
            "hell\n"
          ]
        }
      ]
    },
    {
      "cell_type": "code",
      "source": [
        "a=\"hello world\"   #slicing to end\n",
        "print(a[4:])"
      ],
      "metadata": {
        "colab": {
          "base_uri": "https://localhost:8080/"
        },
        "id": "XblpEjq_4Zko",
        "outputId": "fa6d415c-e57c-471e-8ee3-2865714c9253"
      },
      "execution_count": null,
      "outputs": [
        {
          "output_type": "stream",
          "name": "stdout",
          "text": [
            "o world\n"
          ]
        }
      ]
    },
    {
      "cell_type": "code",
      "source": [
        "a=\"hello world\"    #negative indexing\n",
        "print(a[-4:-1])"
      ],
      "metadata": {
        "colab": {
          "base_uri": "https://localhost:8080/"
        },
        "id": "Gy6zMmi54jKG",
        "outputId": "728e4898-5ac5-44e7-a83a-c9722fa2b209"
      },
      "execution_count": null,
      "outputs": [
        {
          "output_type": "stream",
          "name": "stdout",
          "text": [
            "orl\n"
          ]
        }
      ]
    },
    {
      "cell_type": "markdown",
      "source": [
        "modify string"
      ],
      "metadata": {
        "id": "wrm_WBPv5PzI"
      }
    },
    {
      "cell_type": "code",
      "source": [
        "a=\"hello world\"\n",
        "print(a.upper())"
      ],
      "metadata": {
        "colab": {
          "base_uri": "https://localhost:8080/"
        },
        "id": "PGvOTGiv5SF5",
        "outputId": "beb5d072-ca88-4feb-effc-848bf97eaf91"
      },
      "execution_count": null,
      "outputs": [
        {
          "output_type": "stream",
          "name": "stdout",
          "text": [
            "HELLO WORLD\n"
          ]
        }
      ]
    },
    {
      "cell_type": "code",
      "source": [
        "a='HUYFUYUFYHJ'\n",
        "print(a.lower())"
      ],
      "metadata": {
        "colab": {
          "base_uri": "https://localhost:8080/"
        },
        "id": "A7PeTQYm55e8",
        "outputId": "21bea1a2-fcc8-4466-a6c3-4aa3258793bf"
      },
      "execution_count": null,
      "outputs": [
        {
          "output_type": "stream",
          "name": "stdout",
          "text": [
            "huyfuyufyhj\n"
          ]
        }
      ]
    },
    {
      "cell_type": "code",
      "source": [
        "a='  hello   '    #remove space from start and end of the string\n",
        "print(a.strip())"
      ],
      "metadata": {
        "colab": {
          "base_uri": "https://localhost:8080/"
        },
        "id": "MJcoQU406CEF",
        "outputId": "cc60dbc8-6dc6-43fe-ff45-6c85f54b9bec"
      },
      "execution_count": null,
      "outputs": [
        {
          "output_type": "stream",
          "name": "stdout",
          "text": [
            "hello\n"
          ]
        }
      ]
    },
    {
      "cell_type": "code",
      "source": [
        "a=\"Hello world\"   #replace string\n",
        "print(a.replace(\"e\",\"i\"))"
      ],
      "metadata": {
        "colab": {
          "base_uri": "https://localhost:8080/"
        },
        "id": "ir-GDBu-6yOP",
        "outputId": "b8309ae5-b1da-4757-a33e-02a47765b687"
      },
      "execution_count": null,
      "outputs": [
        {
          "output_type": "stream",
          "name": "stdout",
          "text": [
            "Hillo world\n"
          ]
        }
      ]
    },
    {
      "cell_type": "code",
      "source": [
        "a='hello,world'  #split\n",
        "print(a.split(\",\"))"
      ],
      "metadata": {
        "colab": {
          "base_uri": "https://localhost:8080/"
        },
        "id": "WVoxCOCe7RJT",
        "outputId": "272bd1c9-0e82-4f1a-d774-f0a2a00bde6c"
      },
      "execution_count": null,
      "outputs": [
        {
          "output_type": "stream",
          "name": "stdout",
          "text": [
            "['hello', 'world']\n"
          ]
        }
      ]
    },
    {
      "cell_type": "markdown",
      "source": [
        "concatanation"
      ],
      "metadata": {
        "id": "7o54kdZw8RWu"
      }
    },
    {
      "cell_type": "code",
      "source": [
        "a=\"hello\"\n",
        "b=\"world\"\n",
        "print(a+b)"
      ],
      "metadata": {
        "colab": {
          "base_uri": "https://localhost:8080/"
        },
        "id": "f01sk71u8TCx",
        "outputId": "666af5cd-df6e-44c5-d83f-150d0ce68601"
      },
      "execution_count": null,
      "outputs": [
        {
          "output_type": "stream",
          "name": "stdout",
          "text": [
            "helloworld\n"
          ]
        }
      ]
    },
    {
      "cell_type": "code",
      "source": [
        "a=\"hello\"\n",
        "b=\"world\"\n",
        "print(a+\" \"+b)"
      ],
      "metadata": {
        "colab": {
          "base_uri": "https://localhost:8080/"
        },
        "id": "U5jJM8Aw8c9U",
        "outputId": "8a0c7f50-17ba-46aa-9584-6c4d4afa936d"
      },
      "execution_count": null,
      "outputs": [
        {
          "output_type": "stream",
          "name": "stdout",
          "text": [
            "hello world\n"
          ]
        }
      ]
    },
    {
      "cell_type": "markdown",
      "source": [
        "format string\n"
      ],
      "metadata": {
        "id": "d1f3zxES90Gt"
      }
    },
    {
      "cell_type": "code",
      "source": [
        "age=20\n",
        "a=\"hello i'm\"+ str(age)\n",
        "print(a)"
      ],
      "metadata": {
        "colab": {
          "base_uri": "https://localhost:8080/"
        },
        "id": "C8AM0rdc92Iy",
        "outputId": "6ab5bd76-cccc-41c2-d18c-11f2a641c13c"
      },
      "execution_count": null,
      "outputs": [
        {
          "output_type": "stream",
          "name": "stdout",
          "text": [
            "hello i'm20\n"
          ]
        }
      ]
    },
    {
      "cell_type": "code",
      "source": [
        "age=20\n",
        "a=f\"hello i'm{age}years old\"\n",
        "print(a)"
      ],
      "metadata": {
        "colab": {
          "base_uri": "https://localhost:8080/"
        },
        "id": "04XGIjak-8G_",
        "outputId": "53bd1051-6b60-4785-fbb2-c50e5192d8b0"
      },
      "execution_count": null,
      "outputs": [
        {
          "output_type": "stream",
          "name": "stdout",
          "text": [
            "hello i'm20years old\n"
          ]
        }
      ]
    },
    {
      "cell_type": "code",
      "source": [
        "a=50\n",
        "b=f\"the price is {a}$\"\n",
        "print(a)"
      ],
      "metadata": {
        "colab": {
          "base_uri": "https://localhost:8080/"
        },
        "id": "QqQRqt7A_Bfd",
        "outputId": "558c1086-5669-4d5c-ea5e-cfb14accaa3b"
      },
      "execution_count": null,
      "outputs": [
        {
          "output_type": "stream",
          "name": "stdout",
          "text": [
            "50\n"
          ]
        }
      ]
    },
    {
      "cell_type": "code",
      "source": [
        "price=40  #2 decimals\n",
        "b=f'the price is {price:.2f} dollars'\n",
        "print(b)"
      ],
      "metadata": {
        "colab": {
          "base_uri": "https://localhost:8080/"
        },
        "id": "OkslFsjB_bu7",
        "outputId": "5e6faf55-d835-424f-d34a-5f9d1528f05b"
      },
      "execution_count": null,
      "outputs": [
        {
          "output_type": "stream",
          "name": "stdout",
          "text": [
            "the price is 40.00 dollars\n"
          ]
        }
      ]
    },
    {
      "cell_type": "code",
      "source": [
        "\n",
        "b=f\"the price is {90*2} dollars\"\n",
        "print(b)"
      ],
      "metadata": {
        "colab": {
          "base_uri": "https://localhost:8080/"
        },
        "id": "5WghhjQlAL1T",
        "outputId": "8d586809-5981-49ee-ecdf-89b029d9ddfd"
      },
      "execution_count": null,
      "outputs": [
        {
          "output_type": "stream",
          "name": "stdout",
          "text": [
            "the price is 180 dollars\n"
          ]
        }
      ]
    },
    {
      "cell_type": "markdown",
      "source": [
        "escape char"
      ],
      "metadata": {
        "id": "7sQRBKgpAyDL"
      }
    },
    {
      "cell_type": "code",
      "source": [
        "a=\"you are \\\"so\\\" excited\"\n",
        "print(a)"
      ],
      "metadata": {
        "colab": {
          "base_uri": "https://localhost:8080/"
        },
        "id": "8hW_UMH0AzzX",
        "outputId": "4ab74397-1fa7-4015-a8c2-48fd64cbde99"
      },
      "execution_count": null,
      "outputs": [
        {
          "output_type": "stream",
          "name": "stdout",
          "text": [
            "you are \"so\" excited\n"
          ]
        }
      ]
    },
    {
      "cell_type": "code",
      "source": [
        "a=\"It\\'s\\' okay\"      #using single quote\n",
        "print(a)"
      ],
      "metadata": {
        "colab": {
          "base_uri": "https://localhost:8080/"
        },
        "id": "0sNrTpavB3XV",
        "outputId": "b4457e64-af68-469b-f440-9e56f2fd3584"
      },
      "execution_count": null,
      "outputs": [
        {
          "output_type": "stream",
          "name": "stdout",
          "text": [
            "It's' okay\n"
          ]
        }
      ]
    },
    {
      "cell_type": "code",
      "source": [
        "a=\"this will insert one \\\\\"     #using\\\n",
        "print(a)"
      ],
      "metadata": {
        "colab": {
          "base_uri": "https://localhost:8080/"
        },
        "id": "ZNZTGTR8CMOQ",
        "outputId": "d2580088-4f6b-4350-9faf-fbfd9e4585fb"
      },
      "execution_count": null,
      "outputs": [
        {
          "output_type": "stream",
          "name": "stdout",
          "text": [
            "this will insert one \\\n"
          ]
        }
      ]
    },
    {
      "cell_type": "code",
      "source": [
        "a=\"hello\\nthere\"  # using\\n\n",
        "print(a)"
      ],
      "metadata": {
        "colab": {
          "base_uri": "https://localhost:8080/"
        },
        "id": "Y8S0aW07ChKM",
        "outputId": "8a3e6cbf-6ed7-40e3-9409-f3187f726985"
      },
      "execution_count": null,
      "outputs": [
        {
          "output_type": "stream",
          "name": "stdout",
          "text": [
            "hello\n",
            "there\n"
          ]
        }
      ]
    },
    {
      "cell_type": "code",
      "source": [
        "a=\"hello\\rworld.\"         #carriage return\n",
        "print(a)"
      ],
      "metadata": {
        "colab": {
          "base_uri": "https://localhost:8080/"
        },
        "id": "1Vc4qs9ICwnR",
        "outputId": "d0b1925a-7b70-48d7-e547-36774edc6e21"
      },
      "execution_count": null,
      "outputs": [
        {
          "output_type": "stream",
          "name": "stdout",
          "text": [
            "hello\rworld.\n"
          ]
        }
      ]
    },
    {
      "cell_type": "code",
      "source": [
        "a=\"hello\\tworld.\"         #tab\n",
        "print(a)"
      ],
      "metadata": {
        "colab": {
          "base_uri": "https://localhost:8080/"
        },
        "id": "2mg38y3QC_a9",
        "outputId": "beef5e24-9032-4dda-a1e3-a1bcef920187"
      },
      "execution_count": null,
      "outputs": [
        {
          "output_type": "stream",
          "name": "stdout",
          "text": [
            "hello\tworld.\n"
          ]
        }
      ]
    },
    {
      "cell_type": "code",
      "source": [
        "a=\"hello\\fworld.\"         #formfeed\n",
        "print(a)"
      ],
      "metadata": {
        "colab": {
          "base_uri": "https://localhost:8080/"
        },
        "id": "t36tL_XeDQzN",
        "outputId": "0207f396-b181-482c-dae6-51d30f3fbe86"
      },
      "execution_count": null,
      "outputs": [
        {
          "output_type": "stream",
          "name": "stdout",
          "text": [
            "hello\fworld.\n"
          ]
        }
      ]
    },
    {
      "cell_type": "code",
      "source": [
        "a=\"\\110\\145\\154\\154\\157\"           #\\followed by 3 intrgers gives octal value\n",
        "print(a)"
      ],
      "metadata": {
        "colab": {
          "base_uri": "https://localhost:8080/"
        },
        "id": "NlfGtD6dDicw",
        "outputId": "9c99a582-cfef-49d7-f3f0-6687d8de076f"
      },
      "execution_count": null,
      "outputs": [
        {
          "output_type": "stream",
          "name": "stdout",
          "text": [
            "Hello\n"
          ]
        }
      ]
    },
    {
      "cell_type": "code",
      "source": [
        "a = \"\\x48\\x65\\x6c\\x6c\\x6f\"      #x and 2 hex numbers gives hexadecimal value\n",
        "print(a)\n"
      ],
      "metadata": {
        "colab": {
          "base_uri": "https://localhost:8080/"
        },
        "id": "g6V19a2UD03P",
        "outputId": "8b416402-701e-4042-b1f3-5392478d1fbf"
      },
      "execution_count": null,
      "outputs": [
        {
          "output_type": "stream",
          "name": "stdout",
          "text": [
            "Hello\n"
          ]
        }
      ]
    },
    {
      "cell_type": "markdown",
      "source": [
        "string methods"
      ],
      "metadata": {
        "id": "sk_BFH0NEP7S"
      }
    },
    {
      "cell_type": "code",
      "source": [
        "a='have a good day'\n",
        "print(a.capitalize())"
      ],
      "metadata": {
        "colab": {
          "base_uri": "https://localhost:8080/"
        },
        "id": "8qJzgnS6ER-4",
        "outputId": "981147e7-f31f-4f91-8e06-13b76e2a1a78"
      },
      "execution_count": null,
      "outputs": [
        {
          "output_type": "stream",
          "name": "stdout",
          "text": [
            "Have a good day\n"
          ]
        }
      ]
    },
    {
      "cell_type": "code",
      "source": [
        "a=\"How ARe You\"\n",
        "print(a.casefold())"
      ],
      "metadata": {
        "colab": {
          "base_uri": "https://localhost:8080/"
        },
        "id": "y5Z9WJ95E43x",
        "outputId": "0a99bc90-89ab-4c52-d2cc-1ca144897964"
      },
      "execution_count": null,
      "outputs": [
        {
          "output_type": "stream",
          "name": "stdout",
          "text": [
            "how are you\n"
          ]
        }
      ]
    },
    {
      "cell_type": "code",
      "source": [
        "a=\"apple\"\n",
        "print(a.center(10))\n",
        "print(a.center(10,\"i\"))"
      ],
      "metadata": {
        "colab": {
          "base_uri": "https://localhost:8080/"
        },
        "id": "9ANXKQCvFIZC",
        "outputId": "59019a3a-253e-487b-a681-2249fce148ca"
      },
      "execution_count": null,
      "outputs": [
        {
          "output_type": "stream",
          "name": "stdout",
          "text": [
            "  apple   \n",
            "iiappleiii\n"
          ]
        }
      ]
    },
    {
      "cell_type": "code",
      "source": [
        "a=\"ML is subset of ai.and dl is subset of ML\"\n",
        "print(a.count(\"ML\"))"
      ],
      "metadata": {
        "colab": {
          "base_uri": "https://localhost:8080/"
        },
        "id": "KgQ1jxo7GNUA",
        "outputId": "3275ac72-5956-4109-b58a-ed6f4bc472a6"
      },
      "execution_count": null,
      "outputs": [
        {
          "output_type": "stream",
          "name": "stdout",
          "text": [
            "2\n"
          ]
        }
      ]
    },
    {
      "cell_type": "code",
      "source": [
        "a=\"How are you?\"\n",
        "print(a.count(\"you\",3,14))"
      ],
      "metadata": {
        "colab": {
          "base_uri": "https://localhost:8080/"
        },
        "id": "LWHvdfw_GvXZ",
        "outputId": "7db3c40f-d634-4e0d-abc7-7cda367088d9"
      },
      "execution_count": null,
      "outputs": [
        {
          "output_type": "stream",
          "name": "stdout",
          "text": [
            "1\n"
          ]
        }
      ]
    },
    {
      "cell_type": "code",
      "source": [
        "a=\"Hello there\"\n",
        "print(a.encode())"
      ],
      "metadata": {
        "colab": {
          "base_uri": "https://localhost:8080/"
        },
        "id": "PXhY-_QvHhfU",
        "outputId": "688f487a-d3bb-4ccd-820a-7cf40c11bb55"
      },
      "execution_count": null,
      "outputs": [
        {
          "output_type": "stream",
          "name": "stdout",
          "text": [
            "b'Hello there'\n"
          ]
        }
      ]
    },
    {
      "cell_type": "code",
      "source": [
        "a=\"Hello there\"\n",
        "print(a.encode(encoding=\"ascii\",errors=\"backslashreplace\"))"
      ],
      "metadata": {
        "colab": {
          "base_uri": "https://localhost:8080/"
        },
        "id": "_FOTnt0NU9Bt",
        "outputId": "ed50b2a9-c9cf-4ad2-93b9-e685e849f02a"
      },
      "execution_count": null,
      "outputs": [
        {
          "output_type": "stream",
          "name": "stdout",
          "text": [
            "b'Hello there'\n"
          ]
        }
      ]
    },
    {
      "cell_type": "code",
      "source": [
        "txt = \"My name is Ståle\"\n",
        "\n",
        "print(txt.encode(encoding=\"ascii\",errors=\"backslashreplace\"))\n",
        "print(txt.encode(encoding=\"ascii\",errors=\"ignore\"))\n",
        "print(txt.encode(encoding=\"ascii\",errors=\"namereplace\"))\n",
        "print(txt.encode(encoding=\"ascii\",errors=\"replace\"))\n",
        "print(txt.encode(encoding=\"ascii\",errors=\"xmlcharrefreplace\"))\n"
      ],
      "metadata": {
        "colab": {
          "base_uri": "https://localhost:8080/"
        },
        "id": "swZsRpuvWXgi",
        "outputId": "c736586b-9535-45a0-da1e-41fae6a19ecb"
      },
      "execution_count": null,
      "outputs": [
        {
          "output_type": "stream",
          "name": "stdout",
          "text": [
            "b'My name is St\\\\xe5le'\n",
            "b'My name is Stle'\n",
            "b'My name is St\\\\N{LATIN SMALL LETTER A WITH RING ABOVE}le'\n",
            "b'My name is St?le'\n",
            "b'My name is St&#229;le'\n"
          ]
        }
      ]
    },
    {
      "cell_type": "code",
      "source": [
        "a=\"Have a good day.\"\n",
        "print(a.endswith(\".\"))"
      ],
      "metadata": {
        "colab": {
          "base_uri": "https://localhost:8080/"
        },
        "id": "ZD7oarRpWyYT",
        "outputId": "0626f9e6-ceac-477f-fe4c-35d7d60be362"
      },
      "execution_count": null,
      "outputs": [
        {
          "output_type": "stream",
          "name": "stdout",
          "text": [
            "True\n"
          ]
        }
      ]
    },
    {
      "cell_type": "code",
      "source": [
        "a=\"Have a good day.\"\n",
        "print(a.endswith(\"day.\"))"
      ],
      "metadata": {
        "colab": {
          "base_uri": "https://localhost:8080/"
        },
        "id": "_9oZffg_W-6L",
        "outputId": "7b8572cc-79ec-46fd-d791-22eece0b3764"
      },
      "execution_count": null,
      "outputs": [
        {
          "output_type": "stream",
          "name": "stdout",
          "text": [
            "True\n"
          ]
        }
      ]
    },
    {
      "cell_type": "code",
      "source": [
        "a=\"Have a good day.\"\n",
        "print(a.endswith(\"day\",0,25))"
      ],
      "metadata": {
        "colab": {
          "base_uri": "https://localhost:8080/"
        },
        "id": "WyLdK9TcXDuw",
        "outputId": "edf411b3-c5ba-469f-8b0e-c53d8a91d0e6"
      },
      "execution_count": null,
      "outputs": [
        {
          "output_type": "stream",
          "name": "stdout",
          "text": [
            "False\n"
          ]
        }
      ]
    },
    {
      "cell_type": "code",
      "source": [
        "a=\"Have a good day.\"\n",
        "print(a.endswith((\"hour.\",\"day.\")))"
      ],
      "metadata": {
        "colab": {
          "base_uri": "https://localhost:8080/"
        },
        "id": "VMaXcaw1XW2A",
        "outputId": "18900925-b1ec-4438-d992-739120ae2705"
      },
      "execution_count": null,
      "outputs": [
        {
          "output_type": "stream",
          "name": "stdout",
          "text": [
            "True\n"
          ]
        }
      ]
    },
    {
      "cell_type": "code",
      "source": [
        "#expand tabs method\n",
        "a=\"H\\te\\tl\\tl\\to\"\n",
        "print(a.expandtabs(4))"
      ],
      "metadata": {
        "colab": {
          "base_uri": "https://localhost:8080/"
        },
        "id": "x9zVjWCfYDX0",
        "outputId": "f6a849a7-b0f1-4f88-e23b-7a0dd3f62b5c"
      },
      "execution_count": null,
      "outputs": [
        {
          "output_type": "stream",
          "name": "stdout",
          "text": [
            "H   e   l   l   o\n"
          ]
        }
      ]
    },
    {
      "cell_type": "code",
      "source": [
        "a=\"H\\te\\tl\\tl\\to\"\n",
        "print(a)\n",
        "print(a.expandtabs())\n",
        "print(a.expandtabs(7))\n",
        "print(a.expandtabs(10))"
      ],
      "metadata": {
        "colab": {
          "base_uri": "https://localhost:8080/"
        },
        "id": "oeS12pXwYcXb",
        "outputId": "b1bd4e2c-951b-41d3-89ea-f7643547b60d"
      },
      "execution_count": null,
      "outputs": [
        {
          "output_type": "stream",
          "name": "stdout",
          "text": [
            "H\te\tl\tl\to\n",
            "H       e       l       l       o\n",
            "H      e      l      l      o\n",
            "H         e         l         l         o\n"
          ]
        }
      ]
    },
    {
      "cell_type": "code",
      "source": [
        "#find method\n",
        "a='how are you?'\n",
        "print(a.find(\"o\"))"
      ],
      "metadata": {
        "colab": {
          "base_uri": "https://localhost:8080/"
        },
        "id": "DXTC0bF4Y1IM",
        "outputId": "870f9413-f0f1-4745-c0cd-635e42ae8e99"
      },
      "execution_count": null,
      "outputs": [
        {
          "output_type": "stream",
          "name": "stdout",
          "text": [
            "1\n"
          ]
        }
      ]
    },
    {
      "cell_type": "code",
      "source": [
        "a='how are you?'\n",
        "print(a.find(\"o\",4,12))"
      ],
      "metadata": {
        "colab": {
          "base_uri": "https://localhost:8080/"
        },
        "id": "a_tbwtWQZcRT",
        "outputId": "5691909e-4994-49f6-932a-83e6af39ae4e"
      },
      "execution_count": null,
      "outputs": [
        {
          "output_type": "stream",
          "name": "stdout",
          "text": [
            "9\n"
          ]
        }
      ]
    },
    {
      "cell_type": "code",
      "source": [
        "a='how are you?'\n",
        "print(a.find(\"o\"))\n",
        "print(a.index(\"o\"))"
      ],
      "metadata": {
        "colab": {
          "base_uri": "https://localhost:8080/"
        },
        "id": "_6ZKGqGmaPwG",
        "outputId": "bdaa598b-7017-4575-f1fd-59b931c44135"
      },
      "execution_count": null,
      "outputs": [
        {
          "output_type": "stream",
          "name": "stdout",
          "text": [
            "1\n",
            "1\n"
          ]
        }
      ]
    },
    {
      "cell_type": "code",
      "source": [
        "a=\"the price is {price:.2f}dollars\"   #format method\n",
        "print(a.format(price=90))"
      ],
      "metadata": {
        "colab": {
          "base_uri": "https://localhost:8080/"
        },
        "id": "46WDZNbGaWBw",
        "outputId": "b6a8b8b9-5264-49da-858c-7c7f840b385c"
      },
      "execution_count": null,
      "outputs": [
        {
          "output_type": "stream",
          "name": "stdout",
          "text": [
            "the price is 90.00dollars\n"
          ]
        }
      ]
    },
    {
      "cell_type": "code",
      "source": [
        "a=\"My name is{fname} and age is{age}\"\n",
        "print(a.format(fname=\"abc\",age=19))\n",
        "a=\"my name is{0} and age is {1}\"\n",
        "print(a.format(\"abc\",19))\n",
        "a=\"my name is{}and age is{}\"\n",
        "print(a.format(\"abc\",19))"
      ],
      "metadata": {
        "colab": {
          "base_uri": "https://localhost:8080/"
        },
        "id": "VWvbijUKbw0E",
        "outputId": "5e572638-0751-4ba1-cb17-ef88757b3cc1"
      },
      "execution_count": null,
      "outputs": [
        {
          "output_type": "stream",
          "name": "stdout",
          "text": [
            "My name isabc and age is19\n",
            "my name isabc and age is 19\n",
            "my name isabcand age is19\n"
          ]
        }
      ]
    },
    {
      "cell_type": "code",
      "source": [],
      "metadata": {
        "id": "dNZbX9xVc0Er"
      },
      "execution_count": null,
      "outputs": []
    }
  ]
}