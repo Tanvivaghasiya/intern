{
  "nbformat": 4,
  "nbformat_minor": 0,
  "metadata": {
    "colab": {
      "provenance": []
    },
    "kernelspec": {
      "name": "python3",
      "display_name": "Python 3"
    },
    "language_info": {
      "name": "python"
    }
  },
  "cells": [
    {
      "cell_type": "markdown",
      "source": [
        "syntax:\n",
        "lambda arguments : expression"
      ],
      "metadata": {
        "id": "A7JIzowWCIMs"
      }
    },
    {
      "cell_type": "code",
      "source": [
        "x= lambda a:a+10\n",
        "print(x(5))"
      ],
      "metadata": {
        "colab": {
          "base_uri": "https://localhost:8080/"
        },
        "id": "MtkxbeapCRtR",
        "outputId": "03e89fe3-3396-45a1-9da9-d508dea02762"
      },
      "execution_count": null,
      "outputs": [
        {
          "output_type": "stream",
          "name": "stdout",
          "text": [
            "15\n"
          ]
        }
      ]
    },
    {
      "cell_type": "code",
      "source": [
        "x=lambda a,b:a*b\n",
        "print(x(3,4))"
      ],
      "metadata": {
        "colab": {
          "base_uri": "https://localhost:8080/"
        },
        "id": "GI4D3LemCmUD",
        "outputId": "f3d83733-e00a-4b1b-cef5-8f51262e7bd2"
      },
      "execution_count": null,
      "outputs": [
        {
          "output_type": "stream",
          "name": "stdout",
          "text": [
            "12\n"
          ]
        }
      ]
    },
    {
      "cell_type": "code",
      "source": [
        "x= lambda a,b,c:a+b+c\n",
        "print(x(4,5,6))\n"
      ],
      "metadata": {
        "colab": {
          "base_uri": "https://localhost:8080/"
        },
        "id": "PcyWk0H7CtEo",
        "outputId": "81051d75-8df1-489c-82d8-33ed45fd5c34"
      },
      "execution_count": null,
      "outputs": [
        {
          "output_type": "stream",
          "name": "stdout",
          "text": [
            "15\n"
          ]
        }
      ]
    },
    {
      "cell_type": "code",
      "source": [
        "def fun1(n):\n",
        "    return lambda a:a*n\n",
        "double=fun1(2)\n",
        "print(double(22))"
      ],
      "metadata": {
        "colab": {
          "base_uri": "https://localhost:8080/"
        },
        "id": "cCntYOFMC5RT",
        "outputId": "90edb3d4-7da2-4c7a-f449-c0f9c1812b28"
      },
      "execution_count": null,
      "outputs": [
        {
          "output_type": "stream",
          "name": "stdout",
          "text": [
            "44\n"
          ]
        }
      ]
    },
    {
      "cell_type": "code",
      "source": [
        "def fun1(n):\n",
        "    return lambda a:a*n\n",
        "double=fun1(2)\n",
        "triple=fun1(3)\n",
        "\n",
        "print(double(11))\n",
        "print(triple(22))\n"
      ],
      "metadata": {
        "colab": {
          "base_uri": "https://localhost:8080/"
        },
        "id": "5QUsM7X1D32O",
        "outputId": "0a52a006-09a1-4ab8-a7f8-e18acaabe58e"
      },
      "execution_count": null,
      "outputs": [
        {
          "output_type": "stream",
          "name": "stdout",
          "text": [
            "22\n",
            "66\n"
          ]
        }
      ]
    }
  ]
}