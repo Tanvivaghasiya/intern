{
  "nbformat": 4,
  "nbformat_minor": 0,
  "metadata": {
    "colab": {
      "provenance": []
    },
    "kernelspec": {
      "name": "python3",
      "display_name": "Python 3"
    },
    "language_info": {
      "name": "python"
    }
  },
  "cells": [
    {
      "cell_type": "code",
      "execution_count": 2,
      "metadata": {
        "colab": {
          "base_uri": "https://localhost:8080/"
        },
        "id": "p0OjCRDFAGf6",
        "outputId": "d6bb3d45-acef-4a32-d790-d1b3cbd28bce"
      },
      "outputs": [
        {
          "output_type": "stream",
          "name": "stdout",
          "text": [
            "('apple', 'mango', 'orange')\n"
          ]
        }
      ],
      "source": [
        "t1=('apple','mango','orange')\n",
        "print(t1)"
      ]
    },
    {
      "cell_type": "code",
      "source": [
        "print(len(t1))"
      ],
      "metadata": {
        "colab": {
          "base_uri": "https://localhost:8080/"
        },
        "id": "ohLPWEG6BBgQ",
        "outputId": "49cd1057-8875-4d48-cd07-059d93edd090"
      },
      "execution_count": 3,
      "outputs": [
        {
          "output_type": "stream",
          "name": "stdout",
          "text": [
            "3\n"
          ]
        }
      ]
    },
    {
      "cell_type": "code",
      "source": [
        "print(type(t1))\n",
        "\n",
        "t2=('apple',)\n",
        "print(type(t2))\n",
        "\n",
        "t3=('apple')\n",
        "print(type(t3))\n",
        "\n"
      ],
      "metadata": {
        "colab": {
          "base_uri": "https://localhost:8080/"
        },
        "id": "WTwA2UHlBKuL",
        "outputId": "f0f6ec04-9bae-41b6-ee88-170cc211000f"
      },
      "execution_count": 4,
      "outputs": [
        {
          "output_type": "stream",
          "name": "stdout",
          "text": [
            "<class 'tuple'>\n",
            "<class 'tuple'>\n",
            "<class 'str'>\n"
          ]
        }
      ]
    },
    {
      "cell_type": "markdown",
      "source": [
        "datatypes"
      ],
      "metadata": {
        "id": "t7JDLD1xBhi5"
      }
    },
    {
      "cell_type": "code",
      "source": [
        "tuple=('apple','mango','orange')\n",
        "tuple1=(2,5,3,7)\n",
        "tuple2=(True,False)\n",
        "\n",
        "print(type(tuple))\n",
        "print(type(tuple1))\n",
        "print(type(tuple2))\n",
        "\n"
      ],
      "metadata": {
        "colab": {
          "base_uri": "https://localhost:8080/"
        },
        "id": "efBJvyGdBi-z",
        "outputId": "439eab27-e716-4f66-985b-518f1b1e6df6"
      },
      "execution_count": null,
      "outputs": [
        {
          "output_type": "stream",
          "name": "stdout",
          "text": [
            "<class 'tuple'>\n",
            "<class 'tuple'>\n",
            "<class 'tuple'>\n"
          ]
        }
      ]
    },
    {
      "cell_type": "code",
      "source": [
        "#tuple constructor\n",
        "tuple1=tuple(('apple','mango','kiwi'))\n",
        "print(tuple1)"
      ],
      "metadata": {
        "id": "XXASQ_kvC0YG"
      },
      "execution_count": null,
      "outputs": []
    },
    {
      "cell_type": "markdown",
      "source": [
        "access tuples"
      ],
      "metadata": {
        "id": "Rl2X2iJyDCdx"
      }
    },
    {
      "cell_type": "code",
      "source": [
        "print(t1[1])"
      ],
      "metadata": {
        "colab": {
          "base_uri": "https://localhost:8080/"
        },
        "id": "qBlIDPwiDIY0",
        "outputId": "7fa8543b-0030-489f-d6fc-47ea52d3240f"
      },
      "execution_count": 5,
      "outputs": [
        {
          "output_type": "stream",
          "name": "stdout",
          "text": [
            "mango\n"
          ]
        }
      ]
    },
    {
      "cell_type": "code",
      "source": [
        "print(t1[2:])"
      ],
      "metadata": {
        "colab": {
          "base_uri": "https://localhost:8080/"
        },
        "id": "HsP-IvmQDNSF",
        "outputId": "11cc739a-5d56-4ed1-d5c8-4bf3ba901a10"
      },
      "execution_count": 6,
      "outputs": [
        {
          "output_type": "stream",
          "name": "stdout",
          "text": [
            "('orange',)\n"
          ]
        }
      ]
    },
    {
      "cell_type": "code",
      "source": [
        "print(t1[-1])\n"
      ],
      "metadata": {
        "colab": {
          "base_uri": "https://localhost:8080/"
        },
        "id": "atubugOoDRnf",
        "outputId": "c9a574ee-1a14-4f65-a837-e32d1620fb80"
      },
      "execution_count": 7,
      "outputs": [
        {
          "output_type": "stream",
          "name": "stdout",
          "text": [
            "orange\n"
          ]
        }
      ]
    },
    {
      "cell_type": "code",
      "source": [
        "print(t1[-3:-1])"
      ],
      "metadata": {
        "colab": {
          "base_uri": "https://localhost:8080/"
        },
        "id": "BKWEuCgtDXnx",
        "outputId": "11779d17-a74d-47d4-e766-9990605f5680"
      },
      "execution_count": 8,
      "outputs": [
        {
          "output_type": "stream",
          "name": "stdout",
          "text": [
            "('apple', 'mango')\n"
          ]
        }
      ]
    },
    {
      "cell_type": "code",
      "source": [
        "if 'apple' in t1:\n",
        "    print('yes')\n"
      ],
      "metadata": {
        "colab": {
          "base_uri": "https://localhost:8080/"
        },
        "id": "Ru7ENsFVFMV1",
        "outputId": "ef2c8e0b-cb96-4c84-fd97-3b2c2c3c1905"
      },
      "execution_count": 9,
      "outputs": [
        {
          "output_type": "stream",
          "name": "stdout",
          "text": [
            "yes\n"
          ]
        }
      ]
    },
    {
      "cell_type": "markdown",
      "source": [
        "update tuple"
      ],
      "metadata": {
        "id": "5tRMJ7t3FbSk"
      }
    },
    {
      "cell_type": "code",
      "source": [
        "x=('apple','mango','orange')\n"
      ],
      "metadata": {
        "id": "Kvu0ZHv7iyvb"
      },
      "execution_count": 11,
      "outputs": []
    },
    {
      "cell_type": "code",
      "source": [
        "x=('apple','mango','orange')\n",
        "y=list(x)\n",
        "y[1]='kiwi'\n",
        "x= tuple(y)\n",
        "print(x)"
      ],
      "metadata": {
        "id": "F03QRKBzis6q"
      },
      "execution_count": null,
      "outputs": []
    },
    {
      "cell_type": "code",
      "source": [
        "x=('apple','mango','orange')\n",
        "y=list(x)\n",
        "y.append('kiwi')\n",
        "x=tuple(y)\n",
        "print(x)"
      ],
      "metadata": {
        "id": "SSlTmYccGZZn"
      },
      "execution_count": null,
      "outputs": []
    },
    {
      "cell_type": "code",
      "source": [
        "y=('kiwi',)\n",
        "x+=y\n",
        "print(x)"
      ],
      "metadata": {
        "colab": {
          "base_uri": "https://localhost:8080/"
        },
        "id": "IZjrHClzGnQH",
        "outputId": "0c76eb69-9c2c-4a27-8a65-aa68b9a5236b"
      },
      "execution_count": 12,
      "outputs": [
        {
          "output_type": "stream",
          "name": "stdout",
          "text": [
            "('apple', 'mango', 'orange', 'kiwi')\n"
          ]
        }
      ]
    },
    {
      "cell_type": "code",
      "source": [
        "#this will raise error becausee tuple didn't exist\n",
        "del x\n",
        "print(x)"
      ],
      "metadata": {
        "colab": {
          "base_uri": "https://localhost:8080/",
          "height": 180
        },
        "id": "V3THZ2yFHIOP",
        "outputId": "6f7046fa-255a-446d-8dd7-6207834303af"
      },
      "execution_count": 13,
      "outputs": [
        {
          "output_type": "error",
          "ename": "NameError",
          "evalue": "name 'x' is not defined",
          "traceback": [
            "\u001b[0;31m---------------------------------------------------------------------------\u001b[0m",
            "\u001b[0;31mNameError\u001b[0m                                 Traceback (most recent call last)",
            "\u001b[0;32m<ipython-input-13-bd1e1e3e08ff>\u001b[0m in \u001b[0;36m<cell line: 0>\u001b[0;34m()\u001b[0m\n\u001b[1;32m      1\u001b[0m \u001b[0;31m#this will raise error becausee tuple didn't exist\u001b[0m\u001b[0;34m\u001b[0m\u001b[0;34m\u001b[0m\u001b[0m\n\u001b[1;32m      2\u001b[0m \u001b[0;32mdel\u001b[0m \u001b[0mx\u001b[0m\u001b[0;34m\u001b[0m\u001b[0;34m\u001b[0m\u001b[0m\n\u001b[0;32m----> 3\u001b[0;31m \u001b[0mprint\u001b[0m\u001b[0;34m(\u001b[0m\u001b[0mx\u001b[0m\u001b[0;34m)\u001b[0m\u001b[0;34m\u001b[0m\u001b[0;34m\u001b[0m\u001b[0m\n\u001b[0m",
            "\u001b[0;31mNameError\u001b[0m: name 'x' is not defined"
          ]
        }
      ]
    },
    {
      "cell_type": "code",
      "source": [
        "y=tuple(x)\n",
        "y.remove('apple')\n",
        "x=tuple(y)\n",
        "print(x)\n"
      ],
      "metadata": {
        "id": "9clmc9ctIT1E"
      },
      "execution_count": null,
      "outputs": []
    },
    {
      "cell_type": "markdown",
      "source": [
        "unpack tuples"
      ],
      "metadata": {
        "id": "ExLArcKWIizB"
      }
    },
    {
      "cell_type": "code",
      "source": [
        "x=('apple','mango','orange')\n",
        "(red,yellow,orange)=x\n",
        "print(red)\n",
        "print(yellow)\n",
        "print(orange)"
      ],
      "metadata": {
        "colab": {
          "base_uri": "https://localhost:8080/"
        },
        "id": "VWFgIgYcIgN7",
        "outputId": "cb74d766-8af1-4999-a5e7-1868e3b709b1"
      },
      "execution_count": null,
      "outputs": [
        {
          "output_type": "stream",
          "name": "stdout",
          "text": [
            "apple\n",
            "mango\n",
            "orange\n"
          ]
        }
      ]
    },
    {
      "cell_type": "code",
      "source": [
        "x=('apple','mango','orange','strawberry','cherry')\n",
        "[red,yellow,*orange]=x\n",
        "print(red)\n",
        "print(yellow)\n",
        "print(orange)\n",
        "\n",
        "\n"
      ],
      "metadata": {
        "colab": {
          "base_uri": "https://localhost:8080/"
        },
        "id": "Cig00ATMJNob",
        "outputId": "d496e69c-35b5-4338-84e8-5ceb8efd2a00"
      },
      "execution_count": null,
      "outputs": [
        {
          "output_type": "stream",
          "name": "stdout",
          "text": [
            "apple\n",
            "mango\n",
            "['orange', 'strawberry', 'cherry']\n"
          ]
        }
      ]
    },
    {
      "cell_type": "markdown",
      "source": [
        "loop tupels"
      ],
      "metadata": {
        "id": "W8VEe5LpJuO_"
      }
    },
    {
      "cell_type": "code",
      "source": [
        "for x in tuple:\n",
        "    print(x)"
      ],
      "metadata": {
        "colab": {
          "base_uri": "https://localhost:8080/"
        },
        "id": "T6EuP8HrJqvW",
        "outputId": "660ad6ba-fe57-4924-8e97-eae9b059ef22"
      },
      "execution_count": 14,
      "outputs": [
        {
          "output_type": "stream",
          "name": "stdout",
          "text": [
            "apple\n",
            "mango\n",
            "orange\n"
          ]
        }
      ]
    },
    {
      "cell_type": "code",
      "source": [
        "for i in range(len(x)):\n",
        "  print(x[i])"
      ],
      "metadata": {
        "colab": {
          "base_uri": "https://localhost:8080/"
        },
        "id": "nK-y_7U2KDFk",
        "outputId": "45f79c11-ea7e-40e7-e1ea-70745927b58b"
      },
      "execution_count": 15,
      "outputs": [
        {
          "output_type": "stream",
          "name": "stdout",
          "text": [
            "o\n",
            "r\n",
            "a\n",
            "n\n",
            "g\n",
            "e\n"
          ]
        }
      ]
    },
    {
      "cell_type": "code",
      "source": [
        "i=0\n",
        "while i <len(x):\n",
        "  print(x[i])\n",
        "  i=i+1"
      ],
      "metadata": {
        "colab": {
          "base_uri": "https://localhost:8080/"
        },
        "id": "QBhHI3TLKaJS",
        "outputId": "96a1cb6a-bfa3-4979-a733-81e43351d18b"
      },
      "execution_count": 16,
      "outputs": [
        {
          "output_type": "stream",
          "name": "stdout",
          "text": [
            "o\n",
            "r\n",
            "a\n",
            "n\n",
            "g\n",
            "e\n"
          ]
        }
      ]
    },
    {
      "cell_type": "markdown",
      "source": [
        "join tuples"
      ],
      "metadata": {
        "id": "6b0HGrbyKyUY"
      }
    },
    {
      "cell_type": "code",
      "source": [
        "x=('apple','mango','orange')\n",
        "y=(1,4,6,7)\n",
        "z=x+y\n",
        "print(z)"
      ],
      "metadata": {
        "colab": {
          "base_uri": "https://localhost:8080/"
        },
        "id": "ILsDZGKQKvvM",
        "outputId": "69fc763f-c7fb-47f3-b1f0-cadb3da3ef39"
      },
      "execution_count": 18,
      "outputs": [
        {
          "output_type": "stream",
          "name": "stdout",
          "text": [
            "('apple', 'mango', 'orange', 1, 4, 6, 7)\n"
          ]
        }
      ]
    },
    {
      "cell_type": "code",
      "source": [
        "y=x*2\n",
        "print(x)"
      ],
      "metadata": {
        "colab": {
          "base_uri": "https://localhost:8080/"
        },
        "id": "F8gABVoMLRyx",
        "outputId": "6666d4d1-ac80-4a1f-cf3d-c58fc84d59b1"
      },
      "execution_count": 19,
      "outputs": [
        {
          "output_type": "stream",
          "name": "stdout",
          "text": [
            "('apple', 'mango', 'orange')\n"
          ]
        }
      ]
    },
    {
      "cell_type": "markdown",
      "source": [
        "tuple methods"
      ],
      "metadata": {
        "id": "HWtWD1a1L5AL"
      }
    },
    {
      "cell_type": "code",
      "source": [
        "x=(2,4,2,6,4,7,8,9,5,7,4)\n",
        "y=x.count(4)\n",
        "print(y)"
      ],
      "metadata": {
        "colab": {
          "base_uri": "https://localhost:8080/"
        },
        "id": "Gpx-eCgVL8Rm",
        "outputId": "100df5f0-08e2-4b52-f9f7-716bbf60293e"
      },
      "execution_count": null,
      "outputs": [
        {
          "output_type": "stream",
          "name": "stdout",
          "text": [
            "3\n"
          ]
        }
      ]
    },
    {
      "cell_type": "code",
      "source": [
        "x=(2,4,2,6,4,7,8,9,5,7,4)\n",
        "y=x.index(8)\n",
        "print(y)"
      ],
      "metadata": {
        "colab": {
          "base_uri": "https://localhost:8080/"
        },
        "id": "9muXKRO_MI_b",
        "outputId": "fdece999-f68a-49a1-94e0-9c7b0c24e949"
      },
      "execution_count": null,
      "outputs": [
        {
          "output_type": "stream",
          "name": "stdout",
          "text": [
            "6\n"
          ]
        }
      ]
    }
  ]
}