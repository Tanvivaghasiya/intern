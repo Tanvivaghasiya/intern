{
  "nbformat": 4,
  "nbformat_minor": 0,
  "metadata": {
    "colab": {
      "provenance": []
    },
    "kernelspec": {
      "name": "python3",
      "display_name": "Python 3"
    },
    "language_info": {
      "name": "python"
    }
  },
  "cells": [
    {
      "cell_type": "code",
      "execution_count": 2,
      "metadata": {
        "colab": {
          "base_uri": "https://localhost:8080/"
        },
        "id": "fZvCgzjeMoyM",
        "outputId": "e111556e-00a2-4bb0-e23b-427489d894f4"
      },
      "outputs": [
        {
          "output_type": "stream",
          "name": "stdout",
          "text": [
            "{'kiwi', 'mango', 'apple', 'banana'}\n"
          ]
        }
      ],
      "source": [
        "set1={'apple','banana','kiwi','mango'}\n",
        "print(set1)"
      ]
    },
    {
      "cell_type": "code",
      "source": [
        "set1={'apple','banana','kiwi','mango','apple','banana','kiwi','mango'}\n",
        "print(set1)\n"
      ],
      "metadata": {
        "colab": {
          "base_uri": "https://localhost:8080/"
        },
        "id": "TXo-C4dmM64j",
        "outputId": "7a7f3267-50d7-4960-8f8f-a1642bf1eb98"
      },
      "execution_count": null,
      "outputs": [
        {
          "output_type": "stream",
          "name": "stdout",
          "text": [
            "{'banana', 'mango', 'kiwi', 'apple'}\n"
          ]
        }
      ]
    },
    {
      "cell_type": "code",
      "source": [
        "set1={'apple','banana','kiwi','mango',True,1,2,5}\n",
        "print(set1)"
      ],
      "metadata": {
        "colab": {
          "base_uri": "https://localhost:8080/"
        },
        "id": "7_XJIE3bNhS9",
        "outputId": "931477d5-74d1-4f03-a243-80e3e404105d"
      },
      "execution_count": null,
      "outputs": [
        {
          "output_type": "stream",
          "name": "stdout",
          "text": [
            "{True, 2, 'mango', 5, 'kiwi', 'apple', 'banana'}\n"
          ]
        }
      ]
    },
    {
      "cell_type": "code",
      "source": [
        "print(len(set1))"
      ],
      "metadata": {
        "colab": {
          "base_uri": "https://localhost:8080/"
        },
        "id": "a9w_eln0OrQ9",
        "outputId": "c209b997-e33b-4bd8-d673-4f74c588bdea"
      },
      "execution_count": 3,
      "outputs": [
        {
          "output_type": "stream",
          "name": "stdout",
          "text": [
            "4\n"
          ]
        }
      ]
    },
    {
      "cell_type": "code",
      "source": [
        "set1={'apple','kiwi','mango',True,5}\n",
        "print(set1)"
      ],
      "metadata": {
        "colab": {
          "base_uri": "https://localhost:8080/"
        },
        "id": "6UIeUF15OyYs",
        "outputId": "02e9a1ed-85ce-45f8-a138-682ae03198cc"
      },
      "execution_count": null,
      "outputs": [
        {
          "output_type": "stream",
          "name": "stdout",
          "text": [
            "{True, 'mango', 5, 'kiwi', 'apple'}\n"
          ]
        }
      ]
    },
    {
      "cell_type": "code",
      "source": [
        "print(type(set1))"
      ],
      "metadata": {
        "colab": {
          "base_uri": "https://localhost:8080/"
        },
        "id": "YIjZqeC-PS1q",
        "outputId": "c030334c-2a31-4e8d-a550-a7ad12f55fb1"
      },
      "execution_count": 4,
      "outputs": [
        {
          "output_type": "stream",
          "name": "stdout",
          "text": [
            "<class 'set'>\n"
          ]
        }
      ]
    },
    {
      "cell_type": "code",
      "source": [
        "set1=set(('how','are','you'))\n",
        "print(set1)"
      ],
      "metadata": {
        "colab": {
          "base_uri": "https://localhost:8080/"
        },
        "id": "AfnTemsrPlD9",
        "outputId": "554280e7-a86a-44da-bbbb-92c207636d22"
      },
      "execution_count": null,
      "outputs": [
        {
          "output_type": "stream",
          "name": "stdout",
          "text": [
            "{'are', 'how', 'you'}\n"
          ]
        }
      ]
    },
    {
      "cell_type": "markdown",
      "source": [
        "access set items"
      ],
      "metadata": {
        "id": "DsEzpBn9QLdV"
      }
    },
    {
      "cell_type": "code",
      "source": [
        "for x in set1:\n",
        "  print(set1)"
      ],
      "metadata": {
        "colab": {
          "base_uri": "https://localhost:8080/"
        },
        "id": "1ZKJRXiwPvQD",
        "outputId": "86be8796-bd4e-46aa-f0e4-1e6916687b3e"
      },
      "execution_count": 5,
      "outputs": [
        {
          "output_type": "stream",
          "name": "stdout",
          "text": [
            "{'kiwi', 'mango', 'apple', 'banana'}\n",
            "{'kiwi', 'mango', 'apple', 'banana'}\n",
            "{'kiwi', 'mango', 'apple', 'banana'}\n",
            "{'kiwi', 'mango', 'apple', 'banana'}\n"
          ]
        }
      ]
    },
    {
      "cell_type": "code",
      "source": [
        "print('apple'in set1)"
      ],
      "metadata": {
        "colab": {
          "base_uri": "https://localhost:8080/"
        },
        "id": "jx3CZpmGf8kd",
        "outputId": "8bcaab48-fdd5-4ca7-bdb0-a36877485df8"
      },
      "execution_count": 6,
      "outputs": [
        {
          "output_type": "stream",
          "name": "stdout",
          "text": [
            "True\n"
          ]
        }
      ]
    },
    {
      "cell_type": "code",
      "source": [
        "print('apple'not in set1)"
      ],
      "metadata": {
        "colab": {
          "base_uri": "https://localhost:8080/"
        },
        "id": "9nT0XjxbgEr-",
        "outputId": "529c77ff-2357-42d5-f3f8-2f70051bf7fe"
      },
      "execution_count": 7,
      "outputs": [
        {
          "output_type": "stream",
          "name": "stdout",
          "text": [
            "False\n"
          ]
        }
      ]
    },
    {
      "cell_type": "markdown",
      "source": [
        "add set items"
      ],
      "metadata": {
        "id": "IAL4YsI1gaNl"
      }
    },
    {
      "cell_type": "code",
      "source": [
        "set1.add('orange')\n",
        "print(set1)"
      ],
      "metadata": {
        "colab": {
          "base_uri": "https://localhost:8080/"
        },
        "id": "KV56yOW_gbte",
        "outputId": "3a053a84-b47b-48a3-a85e-b38e7b0b23d0"
      },
      "execution_count": 8,
      "outputs": [
        {
          "output_type": "stream",
          "name": "stdout",
          "text": [
            "{'apple', 'mango', 'orange', 'kiwi', 'banana'}\n"
          ]
        }
      ]
    },
    {
      "cell_type": "code",
      "source": [
        "set2={'pineapple','strawberry'}\n",
        "set1.update(set2)\n",
        "print(set1)"
      ],
      "metadata": {
        "colab": {
          "base_uri": "https://localhost:8080/"
        },
        "id": "KiN-NaE7gqMR",
        "outputId": "21cb1a3a-e416-4753-a4ff-be31ba00d4e3"
      },
      "execution_count": 9,
      "outputs": [
        {
          "output_type": "stream",
          "name": "stdout",
          "text": [
            "{'strawberry', 'apple', 'pineapple', 'mango', 'orange', 'kiwi', 'banana'}\n"
          ]
        }
      ]
    },
    {
      "cell_type": "code",
      "source": [
        "list=['pineapple','strawberry']\n",
        "set1.update(list)\n",
        "print(set1)\n",
        "\n"
      ],
      "metadata": {
        "colab": {
          "base_uri": "https://localhost:8080/"
        },
        "id": "CVAHUdxLhHrB",
        "outputId": "e7b8d042-1f0f-49d9-f3cd-de40e928fd9a"
      },
      "execution_count": 10,
      "outputs": [
        {
          "output_type": "stream",
          "name": "stdout",
          "text": [
            "{'strawberry', 'apple', 'pineapple', 'mango', 'orange', 'kiwi', 'banana'}\n"
          ]
        }
      ]
    },
    {
      "cell_type": "markdown",
      "source": [
        "remove set items"
      ],
      "metadata": {
        "id": "wSAcU7ikhs3K"
      }
    },
    {
      "cell_type": "code",
      "source": [
        "set1.remove('kiwi')\n",
        "print(set1)"
      ],
      "metadata": {
        "colab": {
          "base_uri": "https://localhost:8080/"
        },
        "id": "xxp2Evj0iUfa",
        "outputId": "e8f78582-f59e-448d-f856-daf540936199"
      },
      "execution_count": 11,
      "outputs": [
        {
          "output_type": "stream",
          "name": "stdout",
          "text": [
            "{'strawberry', 'apple', 'pineapple', 'mango', 'orange', 'banana'}\n"
          ]
        }
      ]
    },
    {
      "cell_type": "code",
      "source": [
        "set1.discard('kiwi')\n",
        "print(set1)"
      ],
      "metadata": {
        "colab": {
          "base_uri": "https://localhost:8080/"
        },
        "id": "m83uW_nLifDX",
        "outputId": "43b4f715-ab24-4567-f885-3a975b30463e"
      },
      "execution_count": 12,
      "outputs": [
        {
          "output_type": "stream",
          "name": "stdout",
          "text": [
            "{'strawberry', 'apple', 'pineapple', 'mango', 'orange', 'banana'}\n"
          ]
        }
      ]
    },
    {
      "cell_type": "code",
      "source": [
        "x=set1.pop()\n",
        "print(x)\n",
        "print(set1)\n"
      ],
      "metadata": {
        "colab": {
          "base_uri": "https://localhost:8080/"
        },
        "id": "D6HhSJadiorO",
        "outputId": "58331da4-e4ba-40a6-dc50-93f9ea2eb7fe"
      },
      "execution_count": 13,
      "outputs": [
        {
          "output_type": "stream",
          "name": "stdout",
          "text": [
            "strawberry\n",
            "{'apple', 'pineapple', 'mango', 'orange', 'banana'}\n"
          ]
        }
      ]
    },
    {
      "cell_type": "code",
      "source": [
        "set1.clear()\n",
        "print(set1)"
      ],
      "metadata": {
        "colab": {
          "base_uri": "https://localhost:8080/"
        },
        "id": "BlcgzyEqjD0D",
        "outputId": "9bcf0b62-161e-4a2d-f89b-31860e5cdf02"
      },
      "execution_count": 14,
      "outputs": [
        {
          "output_type": "stream",
          "name": "stdout",
          "text": [
            "set()\n"
          ]
        }
      ]
    },
    {
      "cell_type": "code",
      "source": [
        "#this will give error\n",
        "del set1\n",
        "print(set1)"
      ],
      "metadata": {
        "colab": {
          "base_uri": "https://localhost:8080/",
          "height": 180
        },
        "id": "GFd6D1oLjQWS",
        "outputId": "22cd3c6d-8f85-4fd5-f798-ed0c9d4a1fc8"
      },
      "execution_count": 15,
      "outputs": [
        {
          "output_type": "error",
          "ename": "NameError",
          "evalue": "name 'set1' is not defined",
          "traceback": [
            "\u001b[0;31m---------------------------------------------------------------------------\u001b[0m",
            "\u001b[0;31mNameError\u001b[0m                                 Traceback (most recent call last)",
            "\u001b[0;32m<ipython-input-15-0d085308ad5a>\u001b[0m in \u001b[0;36m<cell line: 0>\u001b[0;34m()\u001b[0m\n\u001b[1;32m      1\u001b[0m \u001b[0;31m#this will give error\u001b[0m\u001b[0;34m\u001b[0m\u001b[0;34m\u001b[0m\u001b[0m\n\u001b[1;32m      2\u001b[0m \u001b[0;32mdel\u001b[0m \u001b[0mset1\u001b[0m\u001b[0;34m\u001b[0m\u001b[0;34m\u001b[0m\u001b[0m\n\u001b[0;32m----> 3\u001b[0;31m \u001b[0mprint\u001b[0m\u001b[0;34m(\u001b[0m\u001b[0mset1\u001b[0m\u001b[0;34m)\u001b[0m\u001b[0;34m\u001b[0m\u001b[0;34m\u001b[0m\u001b[0m\n\u001b[0m",
            "\u001b[0;31mNameError\u001b[0m: name 'set1' is not defined"
          ]
        }
      ]
    },
    {
      "cell_type": "markdown",
      "source": [
        "loop set"
      ],
      "metadata": {
        "id": "9pmDZvZAjwdA"
      }
    },
    {
      "cell_type": "code",
      "source": [
        "set1={'apple','banana','kiwi','mango'}\n",
        "for x in set1:\n",
        "  print(x)"
      ],
      "metadata": {
        "colab": {
          "base_uri": "https://localhost:8080/"
        },
        "id": "hbBAVwl5jubZ",
        "outputId": "2556d3c3-9ca2-4cfa-c459-e46ccb27f37a"
      },
      "execution_count": 17,
      "outputs": [
        {
          "output_type": "stream",
          "name": "stdout",
          "text": [
            "kiwi\n",
            "mango\n",
            "apple\n",
            "banana\n"
          ]
        }
      ]
    },
    {
      "cell_type": "markdown",
      "source": [
        "join set"
      ],
      "metadata": {
        "id": "Mn1tXrK0kRWQ"
      }
    },
    {
      "cell_type": "code",
      "source": [
        "set2={2,5,3,4}\n",
        "set3=set1.union(set2)\n",
        "print(set3)\n",
        "\n",
        "#or\n",
        "set2={2,5,3,4}\n",
        "set3=set1|(set2)\n",
        "print(set3)\n",
        "\n"
      ],
      "metadata": {
        "colab": {
          "base_uri": "https://localhost:8080/"
        },
        "id": "wGVNU8TYkHHv",
        "outputId": "763c7317-646f-4ef5-9f32-1c1186a284da"
      },
      "execution_count": 19,
      "outputs": [
        {
          "output_type": "stream",
          "name": "stdout",
          "text": [
            "{2, 3, 4, 5, 'mango', 'apple', 'kiwi'}\n",
            "{2, 3, 4, 5, 'mango', 'apple', 'kiwi'}\n"
          ]
        }
      ]
    },
    {
      "cell_type": "code",
      "source": [
        "#join multiple set\n",
        "set2={5,4,6,8,4}\n",
        "set3={True,False}\n",
        "set4=set1.union(set2,set3)\n",
        "print(set4)\n",
        "\n",
        "#or\n",
        "set2={5,4,6,8,4}\n",
        "set3={True,False}\n",
        "set4=set1|set2|set3\n",
        "print(set4)\n"
      ],
      "metadata": {
        "colab": {
          "base_uri": "https://localhost:8080/"
        },
        "id": "7Pa3iuJxk7k2",
        "outputId": "eecb02af-ee38-4963-fedd-ced56d16f7a1"
      },
      "execution_count": 20,
      "outputs": [
        {
          "output_type": "stream",
          "name": "stdout",
          "text": [
            "{False, 'kiwi', True, 4, 5, 6, 8, 'mango', 'apple'}\n",
            "{False, 'kiwi', True, 4, 5, 6, 8, 'mango', 'apple'}\n"
          ]
        }
      ]
    },
    {
      "cell_type": "code",
      "source": [
        "#join set and tuple"
      ],
      "metadata": {
        "id": "PKZL1qsQllL8"
      },
      "execution_count": null,
      "outputs": []
    },
    {
      "cell_type": "code",
      "source": [
        "tup2=(5,4,6,8,4)\n",
        "x=set1.union(tup2)\n",
        "print(x)\n",
        "\n"
      ],
      "metadata": {
        "colab": {
          "base_uri": "https://localhost:8080/"
        },
        "id": "jYvgUCnxly5-",
        "outputId": "5353268e-bc67-4ebb-bc14-57235af0863d"
      },
      "execution_count": 21,
      "outputs": [
        {
          "output_type": "stream",
          "name": "stdout",
          "text": [
            "{4, 5, 6, 8, 'apple', 'mango', 'kiwi'}\n"
          ]
        }
      ]
    },
    {
      "cell_type": "code",
      "source": [
        "set2={5,4,6,8,4}\n",
        "set1.update(set2)\n",
        "print(set1)"
      ],
      "metadata": {
        "colab": {
          "base_uri": "https://localhost:8080/"
        },
        "id": "meZU_ICkmMwp",
        "outputId": "0d3702e7-066e-45f6-edb4-219b6c77b1bc"
      },
      "execution_count": 22,
      "outputs": [
        {
          "output_type": "stream",
          "name": "stdout",
          "text": [
            "{4, 5, 'mango', 6, 8, 'apple', 'kiwi'}\n"
          ]
        }
      ]
    },
    {
      "cell_type": "code",
      "source": [
        "set2={5,4,6,8,4}\n",
        "set3=set1.intersection(set2)\n",
        "print(set3)\n",
        "\n",
        "#or\n",
        "set2={5,4,6,8,4}\n",
        "set3=set1&(set2)\n",
        "print(set3)"
      ],
      "metadata": {
        "colab": {
          "base_uri": "https://localhost:8080/"
        },
        "id": "Us4Bk68mmnfQ",
        "outputId": "d770cf3f-9c93-4aa7-c6f3-baae060ff48e"
      },
      "execution_count": 23,
      "outputs": [
        {
          "output_type": "stream",
          "name": "stdout",
          "text": [
            "{8, 4, 5, 6}\n",
            "{8, 4, 5, 6}\n"
          ]
        }
      ]
    },
    {
      "cell_type": "code",
      "source": [
        "set2={5,4,6,8,4,'apple'}\n",
        "set1.intersection_update(set2)\n",
        "print(set1)"
      ],
      "metadata": {
        "colab": {
          "base_uri": "https://localhost:8080/"
        },
        "id": "kejS1UdFm5ez",
        "outputId": "3924cae0-11e6-4dc0-f76c-1aa7c3aa2a01"
      },
      "execution_count": 24,
      "outputs": [
        {
          "output_type": "stream",
          "name": "stdout",
          "text": [
            "{4, 5, 6, 8, 'apple'}\n"
          ]
        }
      ]
    },
    {
      "cell_type": "code",
      "source": [
        "set2={5,4,6,8,4,'apple'}\n",
        "set3=set1.difference(set2)\n",
        "print(set3)\n",
        "\n",
        "#or\n",
        "set1={'apple','mango','kiwi'}\n",
        "set2={5,4,6,8,4,'apple'}\n",
        "set3=set1-set2\n",
        "print(set3)"
      ],
      "metadata": {
        "colab": {
          "base_uri": "https://localhost:8080/"
        },
        "id": "DUNY3hlAneiD",
        "outputId": "8937eec3-afc5-4356-c1d4-de7a8cda4b97"
      },
      "execution_count": 25,
      "outputs": [
        {
          "output_type": "stream",
          "name": "stdout",
          "text": [
            "set()\n",
            "{'kiwi', 'mango'}\n"
          ]
        }
      ]
    },
    {
      "cell_type": "code",
      "source": [
        "set2={5,4,6,8,4,'apple'}\n",
        "set1.difference_update(set2)\n",
        "print(set1)"
      ],
      "metadata": {
        "colab": {
          "base_uri": "https://localhost:8080/"
        },
        "id": "x7NdCf6UoWu4",
        "outputId": "cbf83dba-ac98-4b50-f697-4df77024f435"
      },
      "execution_count": 26,
      "outputs": [
        {
          "output_type": "stream",
          "name": "stdout",
          "text": [
            "{'kiwi', 'mango'}\n"
          ]
        }
      ]
    },
    {
      "cell_type": "code",
      "source": [
        "set2={5,4,6,8,4,'apple'}\n",
        "set3=set1.symmetric_difference(set2)\n",
        "print(set3)\n",
        "\n",
        "#or\n",
        "set1={'apple','mango','kiwi'}\n",
        "set2={5,4,6,8,4,'apple'}\n",
        "set3=set1^set2\n",
        "print(set3)"
      ],
      "metadata": {
        "colab": {
          "base_uri": "https://localhost:8080/"
        },
        "id": "K8pJTSqzoj6Y",
        "outputId": "b51ed652-f7bc-42cb-82d1-c8e6950db7b5"
      },
      "execution_count": 27,
      "outputs": [
        {
          "output_type": "stream",
          "name": "stdout",
          "text": [
            "{'kiwi', 4, 5, 6, 'mango', 8, 'apple'}\n",
            "{'kiwi', 4, 5, 6, 'mango', 8}\n"
          ]
        }
      ]
    },
    {
      "cell_type": "markdown",
      "source": [
        "set methods"
      ],
      "metadata": {
        "id": "txSYfQPtqkR1"
      }
    },
    {
      "cell_type": "code",
      "source": [
        "x=set1.copy()\n",
        "print(x)"
      ],
      "metadata": {
        "colab": {
          "base_uri": "https://localhost:8080/"
        },
        "id": "fDqHXZrLqaCh",
        "outputId": "7099e59e-3a95-422d-9749-aa2e0d6f50a2"
      },
      "execution_count": 28,
      "outputs": [
        {
          "output_type": "stream",
          "name": "stdout",
          "text": [
            "{'kiwi', 'apple', 'mango'}\n"
          ]
        }
      ]
    },
    {
      "cell_type": "code",
      "source": [
        "set2={5,4,6,8,4,'apple'}\n",
        "set3=set1.isdisjoint(set2)\n",
        "print(set3)"
      ],
      "metadata": {
        "colab": {
          "base_uri": "https://localhost:8080/"
        },
        "id": "Cn3PyzMXqnD4",
        "outputId": "80cdbb3f-c26e-41e3-cfb4-ab2842100145"
      },
      "execution_count": 29,
      "outputs": [
        {
          "output_type": "stream",
          "name": "stdout",
          "text": [
            "False\n"
          ]
        }
      ]
    },
    {
      "cell_type": "code",
      "source": [
        "set2={5,4,6,8,4,'apple'}\n",
        "set3=set1.issubset(set2)\n",
        "print(set3)"
      ],
      "metadata": {
        "colab": {
          "base_uri": "https://localhost:8080/"
        },
        "id": "3P1nf9ayq-_m",
        "outputId": "b716d57d-f54f-422c-de6a-a13a781e3aac"
      },
      "execution_count": 30,
      "outputs": [
        {
          "output_type": "stream",
          "name": "stdout",
          "text": [
            "False\n"
          ]
        }
      ]
    },
    {
      "cell_type": "code",
      "source": [
        "set2={5,4,6,8,4,'apple'}\n",
        "set3=set1.issuperset(set2)\n",
        "print(set3)\n",
        "\n",
        "#or\n",
        "set2={5,4,6,8,4,'apple'}\n",
        "set3=set1>=set2\n",
        "print(set3)\n"
      ],
      "metadata": {
        "colab": {
          "base_uri": "https://localhost:8080/"
        },
        "id": "kZ5lilYXrC9A",
        "outputId": "07712889-cd25-4f4e-f8cf-433afc48d46d"
      },
      "execution_count": 31,
      "outputs": [
        {
          "output_type": "stream",
          "name": "stdout",
          "text": [
            "False\n",
            "False\n"
          ]
        }
      ]
    },
    {
      "cell_type": "code",
      "source": [
        "set2={5,4,6,8,4,'apple'}\n",
        "set1.update(set2)\n",
        "print(set1)\n",
        "\n",
        "#or\n",
        "set2={5,4,6,8,4,'apple'}\n",
        "set1|=set2\n",
        "print(set1)\n"
      ],
      "metadata": {
        "colab": {
          "base_uri": "https://localhost:8080/"
        },
        "id": "jXfxNQ9xrd-h",
        "outputId": "adda4478-06f8-4d12-ee7e-d0d6c550732b"
      },
      "execution_count": 32,
      "outputs": [
        {
          "output_type": "stream",
          "name": "stdout",
          "text": [
            "{4, 5, 6, 8, 'apple', 'mango', 'kiwi'}\n",
            "{4, 5, 6, 8, 'apple', 'mango', 'kiwi'}\n"
          ]
        }
      ]
    },
    {
      "cell_type": "code",
      "source": [
        "set2={5,4,6,8,4,'apple'}\n",
        "set1.symmetric_difference_update(set2)\n",
        "print(set1)\n",
        "\n",
        "#or\n",
        "set2={5,4,6,8,4,'apple'}\n",
        "set1^=set2\n",
        "print(set1)\n"
      ],
      "metadata": {
        "colab": {
          "base_uri": "https://localhost:8080/"
        },
        "id": "yJPvTYGXr-Bi",
        "outputId": "1e93387f-9ff3-4096-9326-a8c9290b64bb"
      },
      "execution_count": 33,
      "outputs": [
        {
          "output_type": "stream",
          "name": "stdout",
          "text": [
            "{'mango', 'kiwi'}\n",
            "{5, 4, 6, 8, 'apple', 'mango', 'kiwi'}\n"
          ]
        }
      ]
    }
  ]
}