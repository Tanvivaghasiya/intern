{
  "nbformat": 4,
  "nbformat_minor": 0,
  "metadata": {
    "colab": {
      "provenance": []
    },
    "kernelspec": {
      "name": "python3",
      "display_name": "Python 3"
    },
    "language_info": {
      "name": "python"
    }
  },
  "cells": [
    {
      "cell_type": "markdown",
      "source": [
        "arithmetic\n"
      ],
      "metadata": {
        "id": "ZL6niwvFoUYs"
      }
    },
    {
      "cell_type": "code",
      "source": [
        "a=9\n",
        "b=80\n",
        "print(a+b)\n",
        "print(a-b)\n",
        "print(a*b)\n",
        "print(a/b)\n",
        "print(a%b)\n",
        "print(a**b)\n",
        "print(a//b)"
      ],
      "metadata": {
        "colab": {
          "base_uri": "https://localhost:8080/"
        },
        "id": "JQIaBPDFoW4C",
        "outputId": "ed54f36e-9f45-4067-8d28-3c4b8d8334e4"
      },
      "execution_count": null,
      "outputs": [
        {
          "output_type": "stream",
          "name": "stdout",
          "text": [
            "89\n",
            "-71\n",
            "720\n",
            "0.1125\n",
            "9\n",
            "21847450052839212624230656502990235142567050104912751880812823948662932355201\n",
            "0\n"
          ]
        }
      ]
    },
    {
      "cell_type": "markdown",
      "source": [
        "assignment"
      ],
      "metadata": {
        "id": "bC4ial-Co2_S"
      }
    },
    {
      "cell_type": "code",
      "source": [
        "x=5\n",
        "print(x)\n",
        "x=5\n",
        "x+=3\n",
        "print(x)\n",
        "x=5\n",
        "x-=3\n",
        "print(x)\n",
        "x=5\n",
        "x/=3\n",
        "print(x)\n",
        "x=5\n",
        "x*=3\n",
        "print(x)\n",
        "x=5\n",
        "x%=3\n",
        "print(x)\n",
        "x=5\n",
        "x//=3\n",
        "print(x)\n",
        "x=5\n",
        "x**=3\n",
        "print(x)\n",
        "x=5\n",
        "x&=3\n",
        "print(x)\n",
        "x=5\n",
        "x!=3\n",
        "print(x)\n",
        "x=5\n",
        "x^=3\n",
        "print(x)\n",
        "x=5\n",
        "x>>=3\n",
        "print(x)\n",
        "x=5\n",
        "x<<=3\n",
        "print(x)\n",
        "x=5\n",
        "print(x:=3)\n"
      ],
      "metadata": {
        "colab": {
          "base_uri": "https://localhost:8080/"
        },
        "id": "mSd5ZzZ4oeLd",
        "outputId": "32c2799f-4ed6-43ed-dbe9-8c78ebd4b8bb"
      },
      "execution_count": null,
      "outputs": [
        {
          "output_type": "stream",
          "name": "stdout",
          "text": [
            "5\n",
            "8\n",
            "2\n",
            "1.6666666666666667\n",
            "15\n",
            "2\n",
            "1\n",
            "125\n",
            "1\n",
            "5\n",
            "6\n",
            "0\n",
            "40\n",
            "3\n"
          ]
        }
      ]
    },
    {
      "cell_type": "markdown",
      "source": [
        "comparison"
      ],
      "metadata": {
        "id": "5HcUn_xwtaga"
      }
    },
    {
      "cell_type": "code",
      "source": [
        "a=9\n",
        "b=7\n",
        "print(a==b)\n",
        "print(a>b)\n",
        "print(a<b)\n",
        "print(a!=b)\n",
        "print(a>=b)\n",
        "print(a<=b)"
      ],
      "metadata": {
        "colab": {
          "base_uri": "https://localhost:8080/"
        },
        "id": "WfDKfr_qthYq",
        "outputId": "7152ee30-49f5-4b4a-d9fc-3d9b8dd0489d"
      },
      "execution_count": null,
      "outputs": [
        {
          "output_type": "stream",
          "name": "stdout",
          "text": [
            "False\n",
            "True\n",
            "False\n",
            "True\n",
            "True\n",
            "False\n"
          ]
        }
      ]
    },
    {
      "cell_type": "markdown",
      "source": [
        "logical"
      ],
      "metadata": {
        "id": "f2Sn82oZudYj"
      }
    },
    {
      "cell_type": "code",
      "source": [
        "x=6\n",
        "print(x>3 and x<9)\n",
        "print(x>3 or x<9)\n",
        "print(not(x>3 and x<9))"
      ],
      "metadata": {
        "colab": {
          "base_uri": "https://localhost:8080/"
        },
        "id": "0SkLso92uf-1",
        "outputId": "60df326a-ff38-4766-86b7-f2e09e73d0bc"
      },
      "execution_count": null,
      "outputs": [
        {
          "output_type": "stream",
          "name": "stdout",
          "text": [
            "True\n",
            "True\n",
            "False\n"
          ]
        }
      ]
    },
    {
      "cell_type": "markdown",
      "source": [
        "identity"
      ],
      "metadata": {
        "id": "JM4sx9I4u6Jd"
      }
    },
    {
      "cell_type": "code",
      "source": [
        "x=['apple','mango']\n",
        "y=['apple','mango']\n",
        "z=x\n",
        "print(x is y)\n",
        "print(x is z)\n",
        "print(x==y)\n"
      ],
      "metadata": {
        "colab": {
          "base_uri": "https://localhost:8080/"
        },
        "id": "ut7g0rDEu3Wr",
        "outputId": "b649cc15-07a5-4a7a-9896-52a2cd4eb60f"
      },
      "execution_count": null,
      "outputs": [
        {
          "output_type": "stream",
          "name": "stdout",
          "text": [
            "False\n",
            "True\n",
            "True\n"
          ]
        }
      ]
    },
    {
      "cell_type": "code",
      "source": [
        "x=['apple','mango']\n",
        "y=['apple','mango']\n",
        "z=x\n",
        "print(x is not y)\n",
        "print(x is not z)\n",
        "print(x!=y)"
      ],
      "metadata": {
        "colab": {
          "base_uri": "https://localhost:8080/"
        },
        "id": "dYxlnEXYzGpY",
        "outputId": "a8b9a9a0-8c88-47e9-aed1-663b7fd34ca4"
      },
      "execution_count": null,
      "outputs": [
        {
          "output_type": "stream",
          "name": "stdout",
          "text": [
            "True\n",
            "False\n",
            "False\n"
          ]
        }
      ]
    },
    {
      "cell_type": "markdown",
      "source": [
        "membership"
      ],
      "metadata": {
        "id": "Kiq8wqPszTPK"
      }
    },
    {
      "cell_type": "code",
      "source": [
        "x=[\"apple\",\"mango\"]\n",
        "print(\"apple\"in x)"
      ],
      "metadata": {
        "colab": {
          "base_uri": "https://localhost:8080/"
        },
        "id": "FdhOs0GIzYBq",
        "outputId": "158d7af6-9f9a-4079-8eb0-44dc401dd652"
      },
      "execution_count": null,
      "outputs": [
        {
          "output_type": "stream",
          "name": "stdout",
          "text": [
            "True\n"
          ]
        }
      ]
    },
    {
      "cell_type": "code",
      "source": [
        "x=[\"apple\",\"mango\"]\n",
        "print(\"kiwi\" not in x)"
      ],
      "metadata": {
        "colab": {
          "base_uri": "https://localhost:8080/"
        },
        "id": "vppSnG9Tzs7k",
        "outputId": "0fd8ec1c-3c80-44f6-9d87-5859ad0df91c"
      },
      "execution_count": null,
      "outputs": [
        {
          "output_type": "stream",
          "name": "stdout",
          "text": [
            "True\n"
          ]
        }
      ]
    },
    {
      "cell_type": "markdown",
      "source": [
        "bitwise"
      ],
      "metadata": {
        "id": "lU2xTwDQ1Ink"
      }
    },
    {
      "cell_type": "code",
      "source": [
        "print(6&3)\n",
        "print(6|3)\n",
        "print(6&3)\n",
        "print(6|3)\n",
        "print(6^3)\n",
        "print(~6)\n",
        "print(6<<2)\n",
        "print(6>>2)"
      ],
      "metadata": {
        "colab": {
          "base_uri": "https://localhost:8080/"
        },
        "id": "JiAdXyenzyWM",
        "outputId": "3c9cff56-69d6-4d52-d7df-8b1fb76de6e4"
      },
      "execution_count": null,
      "outputs": [
        {
          "output_type": "stream",
          "name": "stdout",
          "text": [
            "2\n",
            "7\n",
            "2\n",
            "7\n",
            "5\n",
            "-7\n",
            "24\n",
            "1\n"
          ]
        }
      ]
    },
    {
      "cell_type": "markdown",
      "source": [
        "precedence"
      ],
      "metadata": {
        "id": "oSvalgws2FVr"
      }
    },
    {
      "cell_type": "code",
      "source": [
        "print((4+7)-(4+2))\n",
        "print(100*2-70)\n",
        "\n",
        "print(19*9-20)\n",
        "print(100+~4)\n",
        "print(8 >> 4 - 2)\n",
        "print(4&3+4)\n",
        "print(4^3+4)\n",
        "print(4|3+4)\n",
        "print(not 4==4)\n",
        "print(4 or 3 and 4)\n",
        "print(4 or 3 + 4 or 5)\n",
        "\n",
        "print(4+3-4-2)\n",
        "\n",
        "\n"
      ],
      "metadata": {
        "colab": {
          "base_uri": "https://localhost:8080/"
        },
        "id": "4071ELBu2IyA",
        "outputId": "324c5c63-6cf6-4127-c81a-3408a261b686"
      },
      "execution_count": null,
      "outputs": [
        {
          "output_type": "stream",
          "name": "stdout",
          "text": [
            "5\n",
            "130\n",
            "151\n",
            "95\n",
            "2\n",
            "4\n",
            "3\n",
            "7\n",
            "False\n",
            "4\n",
            "4\n",
            "1\n"
          ]
        }
      ]
    }
  ]
}