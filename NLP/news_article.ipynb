{
  "nbformat": 4,
  "nbformat_minor": 0,
  "metadata": {
    "colab": {
      "provenance": []
    },
    "kernelspec": {
      "name": "python3",
      "display_name": "Python 3"
    },
    "language_info": {
      "name": "python"
    }
  },
  "cells": [
    {
      "cell_type": "markdown",
      "source": [
        "install library"
      ],
      "metadata": {
        "id": "0Wzm8uIKiwOl"
      }
    },
    {
      "cell_type": "code",
      "source": [
        "pip install nltk pandas"
      ],
      "metadata": {
        "colab": {
          "base_uri": "https://localhost:8080/"
        },
        "id": "jpfYFmxXi1WP",
        "outputId": "c46035c6-4c6d-4903-cfc0-b1f82af9002e"
      },
      "execution_count": 2,
      "outputs": [
        {
          "output_type": "stream",
          "name": "stdout",
          "text": [
            "Requirement already satisfied: nltk in /usr/local/lib/python3.11/dist-packages (3.9.1)\n",
            "Requirement already satisfied: pandas in /usr/local/lib/python3.11/dist-packages (2.2.2)\n",
            "Requirement already satisfied: click in /usr/local/lib/python3.11/dist-packages (from nltk) (8.1.8)\n",
            "Requirement already satisfied: joblib in /usr/local/lib/python3.11/dist-packages (from nltk) (1.4.2)\n",
            "Requirement already satisfied: regex>=2021.8.3 in /usr/local/lib/python3.11/dist-packages (from nltk) (2024.11.6)\n",
            "Requirement already satisfied: tqdm in /usr/local/lib/python3.11/dist-packages (from nltk) (4.67.1)\n",
            "Requirement already satisfied: numpy>=1.23.2 in /usr/local/lib/python3.11/dist-packages (from pandas) (1.26.4)\n",
            "Requirement already satisfied: python-dateutil>=2.8.2 in /usr/local/lib/python3.11/dist-packages (from pandas) (2.8.2)\n",
            "Requirement already satisfied: pytz>=2020.1 in /usr/local/lib/python3.11/dist-packages (from pandas) (2024.2)\n",
            "Requirement already satisfied: tzdata>=2022.7 in /usr/local/lib/python3.11/dist-packages (from pandas) (2025.1)\n",
            "Requirement already satisfied: six>=1.5 in /usr/local/lib/python3.11/dist-packages (from python-dateutil>=2.8.2->pandas) (1.17.0)\n"
          ]
        }
      ]
    },
    {
      "cell_type": "markdown",
      "source": [
        "###load the dataset"
      ],
      "metadata": {
        "id": "_l8ybQUzjp-X"
      }
    },
    {
      "cell_type": "code",
      "source": [
        "import pandas as pd\n",
        "a=pd.read_csv(\"Articles.csv\", encoding='latin-1')\n",
        "print(a.head())"
      ],
      "metadata": {
        "colab": {
          "base_uri": "https://localhost:8080/"
        },
        "id": "p4z0ifqyjpf3",
        "outputId": "a8a28a75-d0bc-4155-a4b5-2bbe0c774ed0"
      },
      "execution_count": 3,
      "outputs": [
        {
          "output_type": "stream",
          "name": "stdout",
          "text": [
            "                                             Article      Date  \\\n",
            "0  KARACHI: The Sindh government has decided to b...  1/1/2015   \n",
            "1  HONG KONG: Asian markets started 2015 on an up...  1/2/2015   \n",
            "2  HONG KONG:  Hong Kong shares opened 0.66 perce...  1/5/2015   \n",
            "3  HONG KONG: Asian markets tumbled Tuesday follo...  1/6/2015   \n",
            "4  NEW YORK: US oil prices Monday slipped below $...  1/6/2015   \n",
            "\n",
            "                                             Heading  NewsType  \n",
            "0  sindh govt decides to cut public transport far...  business  \n",
            "1                    asia stocks up in new year trad  business  \n",
            "2           hong kong stocks open 0.66 percent lower  business  \n",
            "3             asian stocks sink euro near nine year   business  \n",
            "4                 us oil prices slip below 50 a barr  business  \n"
          ]
        }
      ]
    },
    {
      "cell_type": "code",
      "source": [
        "import nltk\n",
        "from nltk.sentiment import SentimentIntensityAnalyzer\n",
        "nltk.download('vader_lexicon')"
      ],
      "metadata": {
        "colab": {
          "base_uri": "https://localhost:8080/"
        },
        "id": "jv68oMk_k-AF",
        "outputId": "445cb7ce-5053-4589-a170-aceb2df086e9"
      },
      "execution_count": 4,
      "outputs": [
        {
          "output_type": "stream",
          "name": "stderr",
          "text": [
            "[nltk_data] Downloading package vader_lexicon to /root/nltk_data...\n"
          ]
        },
        {
          "output_type": "execute_result",
          "data": {
            "text/plain": [
              "True"
            ]
          },
          "metadata": {},
          "execution_count": 4
        }
      ]
    },
    {
      "cell_type": "code",
      "source": [
        "s=SentimentIntensityAnalyzer()"
      ],
      "metadata": {
        "id": "VlzZU9a6lef0"
      },
      "execution_count": 5,
      "outputs": []
    },
    {
      "cell_type": "code",
      "source": [
        "def sentiment(t):\n",
        "  if pd.isna(t):\n",
        "     return 'neutral'\n",
        "  else:\n",
        "     sentiment=s.polarity_scores(t)\n",
        "     if sentiment[\"compound\"]>=0.05:\n",
        "      return 'Positive'\n",
        "     elif sentiment['compound']<=-0.05:\n",
        "      return 'Negative'\n",
        "     else:\n",
        "      return 'Neutral'\n"
      ],
      "metadata": {
        "id": "0GYOeNtdliOg"
      },
      "execution_count": 6,
      "outputs": []
    },
    {
      "cell_type": "code",
      "source": [
        "#applying sentiment to the dataset\n",
        "a['Sentiment']=a['Article'].apply(sentiment)"
      ],
      "metadata": {
        "id": "2Mi9RzzHmxD_"
      },
      "execution_count": 7,
      "outputs": []
    },
    {
      "cell_type": "code",
      "source": [
        "a"
      ],
      "metadata": {
        "colab": {
          "base_uri": "https://localhost:8080/",
          "height": 476
        },
        "id": "6qZn1VrwnDTB",
        "outputId": "3db2605c-4786-4634-abc0-3468e0d3fa41"
      },
      "execution_count": 8,
      "outputs": [
        {
          "output_type": "execute_result",
          "data": {
            "text/plain": [
              "                                                Article       Date  \\\n",
              "0     KARACHI: The Sindh government has decided to b...   1/1/2015   \n",
              "1     HONG KONG: Asian markets started 2015 on an up...   1/2/2015   \n",
              "2     HONG KONG:  Hong Kong shares opened 0.66 perce...   1/5/2015   \n",
              "3     HONG KONG: Asian markets tumbled Tuesday follo...   1/6/2015   \n",
              "4     NEW YORK: US oil prices Monday slipped below $...   1/6/2015   \n",
              "...                                                 ...        ...   \n",
              "2687  strong>DUBAI: Dubai International Airport and ...  3/25/2017   \n",
              "2688  strong>BEIJING: Former Prime Minister, Shaukat...  3/26/2017   \n",
              "2689  strong>WASHINGTON: Uber has grounded its fleet...  3/26/2017   \n",
              "2690  strong>BEIJING: The New Development Bank plans...  3/27/2017   \n",
              "2691  strong>KARACHI: Karachi-based technology incub...  3/27/2017   \n",
              "\n",
              "                                                Heading  NewsType Sentiment  \n",
              "0     sindh govt decides to cut public transport far...  business  Negative  \n",
              "1                       asia stocks up in new year trad  business  Positive  \n",
              "2              hong kong stocks open 0.66 percent lower  business   Neutral  \n",
              "3                asian stocks sink euro near nine year   business  Negative  \n",
              "4                    us oil prices slip below 50 a barr  business  Negative  \n",
              "...                                                 ...       ...       ...  \n",
              "2687    Laptop ban hits Dubai for 11m weekend traveller  business  Positive  \n",
              "2688  Pak China relations not against any third coun...  business  Positive  \n",
              "2689         Uber grounds self driving cars after accid  business  Negative  \n",
              "2690  New Development Bank plans joint investments i...  business  Positive  \n",
              "2691  Google powered Startup Weekend energizing prou...  business  Positive  \n",
              "\n",
              "[2692 rows x 5 columns]"
            ],
            "text/html": [
              "\n",
              "  <div id=\"df-e10f1684-452c-4ce0-a3df-8911d8bb106b\" class=\"colab-df-container\">\n",
              "    <div>\n",
              "<style scoped>\n",
              "    .dataframe tbody tr th:only-of-type {\n",
              "        vertical-align: middle;\n",
              "    }\n",
              "\n",
              "    .dataframe tbody tr th {\n",
              "        vertical-align: top;\n",
              "    }\n",
              "\n",
              "    .dataframe thead th {\n",
              "        text-align: right;\n",
              "    }\n",
              "</style>\n",
              "<table border=\"1\" class=\"dataframe\">\n",
              "  <thead>\n",
              "    <tr style=\"text-align: right;\">\n",
              "      <th></th>\n",
              "      <th>Article</th>\n",
              "      <th>Date</th>\n",
              "      <th>Heading</th>\n",
              "      <th>NewsType</th>\n",
              "      <th>Sentiment</th>\n",
              "    </tr>\n",
              "  </thead>\n",
              "  <tbody>\n",
              "    <tr>\n",
              "      <th>0</th>\n",
              "      <td>KARACHI: The Sindh government has decided to b...</td>\n",
              "      <td>1/1/2015</td>\n",
              "      <td>sindh govt decides to cut public transport far...</td>\n",
              "      <td>business</td>\n",
              "      <td>Negative</td>\n",
              "    </tr>\n",
              "    <tr>\n",
              "      <th>1</th>\n",
              "      <td>HONG KONG: Asian markets started 2015 on an up...</td>\n",
              "      <td>1/2/2015</td>\n",
              "      <td>asia stocks up in new year trad</td>\n",
              "      <td>business</td>\n",
              "      <td>Positive</td>\n",
              "    </tr>\n",
              "    <tr>\n",
              "      <th>2</th>\n",
              "      <td>HONG KONG:  Hong Kong shares opened 0.66 perce...</td>\n",
              "      <td>1/5/2015</td>\n",
              "      <td>hong kong stocks open 0.66 percent lower</td>\n",
              "      <td>business</td>\n",
              "      <td>Neutral</td>\n",
              "    </tr>\n",
              "    <tr>\n",
              "      <th>3</th>\n",
              "      <td>HONG KONG: Asian markets tumbled Tuesday follo...</td>\n",
              "      <td>1/6/2015</td>\n",
              "      <td>asian stocks sink euro near nine year</td>\n",
              "      <td>business</td>\n",
              "      <td>Negative</td>\n",
              "    </tr>\n",
              "    <tr>\n",
              "      <th>4</th>\n",
              "      <td>NEW YORK: US oil prices Monday slipped below $...</td>\n",
              "      <td>1/6/2015</td>\n",
              "      <td>us oil prices slip below 50 a barr</td>\n",
              "      <td>business</td>\n",
              "      <td>Negative</td>\n",
              "    </tr>\n",
              "    <tr>\n",
              "      <th>...</th>\n",
              "      <td>...</td>\n",
              "      <td>...</td>\n",
              "      <td>...</td>\n",
              "      <td>...</td>\n",
              "      <td>...</td>\n",
              "    </tr>\n",
              "    <tr>\n",
              "      <th>2687</th>\n",
              "      <td>strong&gt;DUBAI: Dubai International Airport and ...</td>\n",
              "      <td>3/25/2017</td>\n",
              "      <td>Laptop ban hits Dubai for 11m weekend traveller</td>\n",
              "      <td>business</td>\n",
              "      <td>Positive</td>\n",
              "    </tr>\n",
              "    <tr>\n",
              "      <th>2688</th>\n",
              "      <td>strong&gt;BEIJING: Former Prime Minister, Shaukat...</td>\n",
              "      <td>3/26/2017</td>\n",
              "      <td>Pak China relations not against any third coun...</td>\n",
              "      <td>business</td>\n",
              "      <td>Positive</td>\n",
              "    </tr>\n",
              "    <tr>\n",
              "      <th>2689</th>\n",
              "      <td>strong&gt;WASHINGTON: Uber has grounded its fleet...</td>\n",
              "      <td>3/26/2017</td>\n",
              "      <td>Uber grounds self driving cars after accid</td>\n",
              "      <td>business</td>\n",
              "      <td>Negative</td>\n",
              "    </tr>\n",
              "    <tr>\n",
              "      <th>2690</th>\n",
              "      <td>strong&gt;BEIJING: The New Development Bank plans...</td>\n",
              "      <td>3/27/2017</td>\n",
              "      <td>New Development Bank plans joint investments i...</td>\n",
              "      <td>business</td>\n",
              "      <td>Positive</td>\n",
              "    </tr>\n",
              "    <tr>\n",
              "      <th>2691</th>\n",
              "      <td>strong&gt;KARACHI: Karachi-based technology incub...</td>\n",
              "      <td>3/27/2017</td>\n",
              "      <td>Google powered Startup Weekend energizing prou...</td>\n",
              "      <td>business</td>\n",
              "      <td>Positive</td>\n",
              "    </tr>\n",
              "  </tbody>\n",
              "</table>\n",
              "<p>2692 rows × 5 columns</p>\n",
              "</div>\n",
              "    <div class=\"colab-df-buttons\">\n",
              "\n",
              "  <div class=\"colab-df-container\">\n",
              "    <button class=\"colab-df-convert\" onclick=\"convertToInteractive('df-e10f1684-452c-4ce0-a3df-8911d8bb106b')\"\n",
              "            title=\"Convert this dataframe to an interactive table.\"\n",
              "            style=\"display:none;\">\n",
              "\n",
              "  <svg xmlns=\"http://www.w3.org/2000/svg\" height=\"24px\" viewBox=\"0 -960 960 960\">\n",
              "    <path d=\"M120-120v-720h720v720H120Zm60-500h600v-160H180v160Zm220 220h160v-160H400v160Zm0 220h160v-160H400v160ZM180-400h160v-160H180v160Zm440 0h160v-160H620v160ZM180-180h160v-160H180v160Zm440 0h160v-160H620v160Z\"/>\n",
              "  </svg>\n",
              "    </button>\n",
              "\n",
              "  <style>\n",
              "    .colab-df-container {\n",
              "      display:flex;\n",
              "      gap: 12px;\n",
              "    }\n",
              "\n",
              "    .colab-df-convert {\n",
              "      background-color: #E8F0FE;\n",
              "      border: none;\n",
              "      border-radius: 50%;\n",
              "      cursor: pointer;\n",
              "      display: none;\n",
              "      fill: #1967D2;\n",
              "      height: 32px;\n",
              "      padding: 0 0 0 0;\n",
              "      width: 32px;\n",
              "    }\n",
              "\n",
              "    .colab-df-convert:hover {\n",
              "      background-color: #E2EBFA;\n",
              "      box-shadow: 0px 1px 2px rgba(60, 64, 67, 0.3), 0px 1px 3px 1px rgba(60, 64, 67, 0.15);\n",
              "      fill: #174EA6;\n",
              "    }\n",
              "\n",
              "    .colab-df-buttons div {\n",
              "      margin-bottom: 4px;\n",
              "    }\n",
              "\n",
              "    [theme=dark] .colab-df-convert {\n",
              "      background-color: #3B4455;\n",
              "      fill: #D2E3FC;\n",
              "    }\n",
              "\n",
              "    [theme=dark] .colab-df-convert:hover {\n",
              "      background-color: #434B5C;\n",
              "      box-shadow: 0px 1px 3px 1px rgba(0, 0, 0, 0.15);\n",
              "      filter: drop-shadow(0px 1px 2px rgba(0, 0, 0, 0.3));\n",
              "      fill: #FFFFFF;\n",
              "    }\n",
              "  </style>\n",
              "\n",
              "    <script>\n",
              "      const buttonEl =\n",
              "        document.querySelector('#df-e10f1684-452c-4ce0-a3df-8911d8bb106b button.colab-df-convert');\n",
              "      buttonEl.style.display =\n",
              "        google.colab.kernel.accessAllowed ? 'block' : 'none';\n",
              "\n",
              "      async function convertToInteractive(key) {\n",
              "        const element = document.querySelector('#df-e10f1684-452c-4ce0-a3df-8911d8bb106b');\n",
              "        const dataTable =\n",
              "          await google.colab.kernel.invokeFunction('convertToInteractive',\n",
              "                                                    [key], {});\n",
              "        if (!dataTable) return;\n",
              "\n",
              "        const docLinkHtml = 'Like what you see? Visit the ' +\n",
              "          '<a target=\"_blank\" href=https://colab.research.google.com/notebooks/data_table.ipynb>data table notebook</a>'\n",
              "          + ' to learn more about interactive tables.';\n",
              "        element.innerHTML = '';\n",
              "        dataTable['output_type'] = 'display_data';\n",
              "        await google.colab.output.renderOutput(dataTable, element);\n",
              "        const docLink = document.createElement('div');\n",
              "        docLink.innerHTML = docLinkHtml;\n",
              "        element.appendChild(docLink);\n",
              "      }\n",
              "    </script>\n",
              "  </div>\n",
              "\n",
              "\n",
              "<div id=\"df-a43183e8-64f1-49dc-8bb7-4d605b70574a\">\n",
              "  <button class=\"colab-df-quickchart\" onclick=\"quickchart('df-a43183e8-64f1-49dc-8bb7-4d605b70574a')\"\n",
              "            title=\"Suggest charts\"\n",
              "            style=\"display:none;\">\n",
              "\n",
              "<svg xmlns=\"http://www.w3.org/2000/svg\" height=\"24px\"viewBox=\"0 0 24 24\"\n",
              "     width=\"24px\">\n",
              "    <g>\n",
              "        <path d=\"M19 3H5c-1.1 0-2 .9-2 2v14c0 1.1.9 2 2 2h14c1.1 0 2-.9 2-2V5c0-1.1-.9-2-2-2zM9 17H7v-7h2v7zm4 0h-2V7h2v10zm4 0h-2v-4h2v4z\"/>\n",
              "    </g>\n",
              "</svg>\n",
              "  </button>\n",
              "\n",
              "<style>\n",
              "  .colab-df-quickchart {\n",
              "      --bg-color: #E8F0FE;\n",
              "      --fill-color: #1967D2;\n",
              "      --hover-bg-color: #E2EBFA;\n",
              "      --hover-fill-color: #174EA6;\n",
              "      --disabled-fill-color: #AAA;\n",
              "      --disabled-bg-color: #DDD;\n",
              "  }\n",
              "\n",
              "  [theme=dark] .colab-df-quickchart {\n",
              "      --bg-color: #3B4455;\n",
              "      --fill-color: #D2E3FC;\n",
              "      --hover-bg-color: #434B5C;\n",
              "      --hover-fill-color: #FFFFFF;\n",
              "      --disabled-bg-color: #3B4455;\n",
              "      --disabled-fill-color: #666;\n",
              "  }\n",
              "\n",
              "  .colab-df-quickchart {\n",
              "    background-color: var(--bg-color);\n",
              "    border: none;\n",
              "    border-radius: 50%;\n",
              "    cursor: pointer;\n",
              "    display: none;\n",
              "    fill: var(--fill-color);\n",
              "    height: 32px;\n",
              "    padding: 0;\n",
              "    width: 32px;\n",
              "  }\n",
              "\n",
              "  .colab-df-quickchart:hover {\n",
              "    background-color: var(--hover-bg-color);\n",
              "    box-shadow: 0 1px 2px rgba(60, 64, 67, 0.3), 0 1px 3px 1px rgba(60, 64, 67, 0.15);\n",
              "    fill: var(--button-hover-fill-color);\n",
              "  }\n",
              "\n",
              "  .colab-df-quickchart-complete:disabled,\n",
              "  .colab-df-quickchart-complete:disabled:hover {\n",
              "    background-color: var(--disabled-bg-color);\n",
              "    fill: var(--disabled-fill-color);\n",
              "    box-shadow: none;\n",
              "  }\n",
              "\n",
              "  .colab-df-spinner {\n",
              "    border: 2px solid var(--fill-color);\n",
              "    border-color: transparent;\n",
              "    border-bottom-color: var(--fill-color);\n",
              "    animation:\n",
              "      spin 1s steps(1) infinite;\n",
              "  }\n",
              "\n",
              "  @keyframes spin {\n",
              "    0% {\n",
              "      border-color: transparent;\n",
              "      border-bottom-color: var(--fill-color);\n",
              "      border-left-color: var(--fill-color);\n",
              "    }\n",
              "    20% {\n",
              "      border-color: transparent;\n",
              "      border-left-color: var(--fill-color);\n",
              "      border-top-color: var(--fill-color);\n",
              "    }\n",
              "    30% {\n",
              "      border-color: transparent;\n",
              "      border-left-color: var(--fill-color);\n",
              "      border-top-color: var(--fill-color);\n",
              "      border-right-color: var(--fill-color);\n",
              "    }\n",
              "    40% {\n",
              "      border-color: transparent;\n",
              "      border-right-color: var(--fill-color);\n",
              "      border-top-color: var(--fill-color);\n",
              "    }\n",
              "    60% {\n",
              "      border-color: transparent;\n",
              "      border-right-color: var(--fill-color);\n",
              "    }\n",
              "    80% {\n",
              "      border-color: transparent;\n",
              "      border-right-color: var(--fill-color);\n",
              "      border-bottom-color: var(--fill-color);\n",
              "    }\n",
              "    90% {\n",
              "      border-color: transparent;\n",
              "      border-bottom-color: var(--fill-color);\n",
              "    }\n",
              "  }\n",
              "</style>\n",
              "\n",
              "  <script>\n",
              "    async function quickchart(key) {\n",
              "      const quickchartButtonEl =\n",
              "        document.querySelector('#' + key + ' button');\n",
              "      quickchartButtonEl.disabled = true;  // To prevent multiple clicks.\n",
              "      quickchartButtonEl.classList.add('colab-df-spinner');\n",
              "      try {\n",
              "        const charts = await google.colab.kernel.invokeFunction(\n",
              "            'suggestCharts', [key], {});\n",
              "      } catch (error) {\n",
              "        console.error('Error during call to suggestCharts:', error);\n",
              "      }\n",
              "      quickchartButtonEl.classList.remove('colab-df-spinner');\n",
              "      quickchartButtonEl.classList.add('colab-df-quickchart-complete');\n",
              "    }\n",
              "    (() => {\n",
              "      let quickchartButtonEl =\n",
              "        document.querySelector('#df-a43183e8-64f1-49dc-8bb7-4d605b70574a button');\n",
              "      quickchartButtonEl.style.display =\n",
              "        google.colab.kernel.accessAllowed ? 'block' : 'none';\n",
              "    })();\n",
              "  </script>\n",
              "</div>\n",
              "\n",
              "  <div id=\"id_c263b09b-5fef-43c9-b1d6-6cb39ad0d4f1\">\n",
              "    <style>\n",
              "      .colab-df-generate {\n",
              "        background-color: #E8F0FE;\n",
              "        border: none;\n",
              "        border-radius: 50%;\n",
              "        cursor: pointer;\n",
              "        display: none;\n",
              "        fill: #1967D2;\n",
              "        height: 32px;\n",
              "        padding: 0 0 0 0;\n",
              "        width: 32px;\n",
              "      }\n",
              "\n",
              "      .colab-df-generate:hover {\n",
              "        background-color: #E2EBFA;\n",
              "        box-shadow: 0px 1px 2px rgba(60, 64, 67, 0.3), 0px 1px 3px 1px rgba(60, 64, 67, 0.15);\n",
              "        fill: #174EA6;\n",
              "      }\n",
              "\n",
              "      [theme=dark] .colab-df-generate {\n",
              "        background-color: #3B4455;\n",
              "        fill: #D2E3FC;\n",
              "      }\n",
              "\n",
              "      [theme=dark] .colab-df-generate:hover {\n",
              "        background-color: #434B5C;\n",
              "        box-shadow: 0px 1px 3px 1px rgba(0, 0, 0, 0.15);\n",
              "        filter: drop-shadow(0px 1px 2px rgba(0, 0, 0, 0.3));\n",
              "        fill: #FFFFFF;\n",
              "      }\n",
              "    </style>\n",
              "    <button class=\"colab-df-generate\" onclick=\"generateWithVariable('a')\"\n",
              "            title=\"Generate code using this dataframe.\"\n",
              "            style=\"display:none;\">\n",
              "\n",
              "  <svg xmlns=\"http://www.w3.org/2000/svg\" height=\"24px\"viewBox=\"0 0 24 24\"\n",
              "       width=\"24px\">\n",
              "    <path d=\"M7,19H8.4L18.45,9,17,7.55,7,17.6ZM5,21V16.75L18.45,3.32a2,2,0,0,1,2.83,0l1.4,1.43a1.91,1.91,0,0,1,.58,1.4,1.91,1.91,0,0,1-.58,1.4L9.25,21ZM18.45,9,17,7.55Zm-12,3A5.31,5.31,0,0,0,4.9,8.1,5.31,5.31,0,0,0,1,6.5,5.31,5.31,0,0,0,4.9,4.9,5.31,5.31,0,0,0,6.5,1,5.31,5.31,0,0,0,8.1,4.9,5.31,5.31,0,0,0,12,6.5,5.46,5.46,0,0,0,6.5,12Z\"/>\n",
              "  </svg>\n",
              "    </button>\n",
              "    <script>\n",
              "      (() => {\n",
              "      const buttonEl =\n",
              "        document.querySelector('#id_c263b09b-5fef-43c9-b1d6-6cb39ad0d4f1 button.colab-df-generate');\n",
              "      buttonEl.style.display =\n",
              "        google.colab.kernel.accessAllowed ? 'block' : 'none';\n",
              "\n",
              "      buttonEl.onclick = () => {\n",
              "        google.colab.notebook.generateWithVariable('a');\n",
              "      }\n",
              "      })();\n",
              "    </script>\n",
              "  </div>\n",
              "\n",
              "    </div>\n",
              "  </div>\n"
            ],
            "application/vnd.google.colaboratory.intrinsic+json": {
              "type": "dataframe",
              "variable_name": "a",
              "summary": "{\n  \"name\": \"a\",\n  \"rows\": 2692,\n  \"fields\": [\n    {\n      \"column\": \"Article\",\n      \"properties\": {\n        \"dtype\": \"string\",\n        \"num_unique_values\": 2584,\n        \"samples\": [\n          \"SEOUL: South Korean swimming star Park Tae-Hwan, who was barred from the Olympics for doping, will compete for the national team in Rio after the Court of Arbitration for Sports (CAS) ruled in his favour.The multiple Olympic medallist had sought \\\"an urgent ruling\\\" from the Lausanne-based body against his doping ban by July 8 -- the deadline for South Korea to select their Rio swimming team.\\\"We will include Park Tae-Hwan in the list of national athletes who will take part in the Rio Olympics\\\", Korean Olympic Committee (KOC) Secretary General Cho Young-Ho was quoted as saying by Yonhap news agency.Park, 26, was slapped with an 18-month suspension after testing positive for an anabolic steroid in out-of-competition controls before the 2014 Asian Games.The ban lapsed in April, but Park remained barred from the 2016 Olympics under a KOC rule which prohibits athletes from representing the country for three years after a doping ban expires.CAS ruled Friday that KOC\\u00b4s extended ban constituted a double jeopardy for Park and should be nullified, according to KOC.South Korea\\u00b4s Olympic committee had said earlier Friday it would abide by the CAS ruling.Park -- once the poster boy of South Korean swimming before the doping scandal -- has repeatedly begged for a chance to compete in what would be his third, and probably last, Olympics.He won 400m freestyle gold and 200m freestyle silver at the 2008 Beijing Olympics and two silver medals at the 2012 London Olympics, as well as 400m world titles in 2007 and 2011.\\u00a0\",\n          \"MEXICO: Popular burrito chain Chipotle Mexican Grill Inc will close its restaurants for a few hours next month to hold a meeting on food safety with employees, company executives said.Chipotle, which has been plagued by a series of food poisoning outbreaks, will hold the meeting on Feb.8, the executives said at the ICR Conference on Wednesday.Chipotle is confident that steps being taken to tighten food safety will prevent future food poisoning outbreaks, the executives said.\\u00a0\",\n          \"strong>Martina Hingis and Sania Mirza lost their cool as their hopes of holding all four grand slam titles were dashed following a 6-3 6-2 defeat by Czech duo Barbora Krejcikova and Katerina Siniakova in the third round of the French Open on Sunday.</strongThe Indo-Swiss team dubbed \\\"Santina\\\" were hoping to win four majors in a row after following up last year's Wimbledon and U.S. Open triumphs with victory in January's Australian Open.But the top seeds appeared all at sea on a gloomy day at Roland Garros and their bid to complete the 'Santina Slam' ended after the Czechs blasted a service return winner to break Hingis in the final game.Hingis and Mirza were left fuming at the umpire after a call went against them as they trailed 4-1 in the second set. Mirza tossed the ball in anger but the duo failed to win the argument, or the match, leaving Krejcikova and Siniakova to celebrate a memorable victory.It proved to be a bad day for the big names in doubles as Venus and Serena Williams, who were the last women's team to hold all four majors in 2010, also perished in the third round, beaten 6-3 6-3 by the Dutch-Swedish pairing of Kiki Bertens and Johanna Larsson.\"\n        ],\n        \"semantic_type\": \"\",\n        \"description\": \"\"\n      }\n    },\n    {\n      \"column\": \"Date\",\n      \"properties\": {\n        \"dtype\": \"object\",\n        \"num_unique_values\": 666,\n        \"samples\": [\n          \"1/15/2017\",\n          \"8/10/2015\",\n          \"2/7/2017\"\n        ],\n        \"semantic_type\": \"\",\n        \"description\": \"\"\n      }\n    },\n    {\n      \"column\": \"Heading\",\n      \"properties\": {\n        \"dtype\": \"string\",\n        \"num_unique_values\": 2581,\n        \"samples\": [\n          \"PIA signs contact lease three A 330s Sri L\",\n          \"Kohli masterclass prompts Tendulkar compari\",\n          \"Pound tests new 31 year low vs dollar\"\n        ],\n        \"semantic_type\": \"\",\n        \"description\": \"\"\n      }\n    },\n    {\n      \"column\": \"NewsType\",\n      \"properties\": {\n        \"dtype\": \"category\",\n        \"num_unique_values\": 2,\n        \"samples\": [\n          \"sports\",\n          \"business\"\n        ],\n        \"semantic_type\": \"\",\n        \"description\": \"\"\n      }\n    },\n    {\n      \"column\": \"Sentiment\",\n      \"properties\": {\n        \"dtype\": \"category\",\n        \"num_unique_values\": 3,\n        \"samples\": [\n          \"Negative\",\n          \"Positive\"\n        ],\n        \"semantic_type\": \"\",\n        \"description\": \"\"\n      }\n    }\n  ]\n}"
            }
          },
          "metadata": {},
          "execution_count": 8
        }
      ]
    },
    {
      "cell_type": "markdown",
      "source": [
        "### by beautifulsoup"
      ],
      "metadata": {
        "id": "Wj48VWhkogST"
      }
    },
    {
      "cell_type": "markdown",
      "source": [
        "install lib"
      ],
      "metadata": {
        "id": "gno3-IYgopqB"
      }
    },
    {
      "cell_type": "code",
      "source": [
        "pip install nltk requests beautifulsoup4\n"
      ],
      "metadata": {
        "colab": {
          "base_uri": "https://localhost:8080/"
        },
        "id": "X6yWzu9zomCi",
        "outputId": "59b55f00-35f8-40e9-b934-c28f2713c77f"
      },
      "execution_count": 9,
      "outputs": [
        {
          "output_type": "stream",
          "name": "stdout",
          "text": [
            "Requirement already satisfied: nltk in /usr/local/lib/python3.11/dist-packages (3.9.1)\n",
            "Requirement already satisfied: requests in /usr/local/lib/python3.11/dist-packages (2.32.3)\n",
            "Requirement already satisfied: beautifulsoup4 in /usr/local/lib/python3.11/dist-packages (4.12.3)\n",
            "Requirement already satisfied: click in /usr/local/lib/python3.11/dist-packages (from nltk) (8.1.8)\n",
            "Requirement already satisfied: joblib in /usr/local/lib/python3.11/dist-packages (from nltk) (1.4.2)\n",
            "Requirement already satisfied: regex>=2021.8.3 in /usr/local/lib/python3.11/dist-packages (from nltk) (2024.11.6)\n",
            "Requirement already satisfied: tqdm in /usr/local/lib/python3.11/dist-packages (from nltk) (4.67.1)\n",
            "Requirement already satisfied: charset-normalizer<4,>=2 in /usr/local/lib/python3.11/dist-packages (from requests) (3.4.1)\n",
            "Requirement already satisfied: idna<4,>=2.5 in /usr/local/lib/python3.11/dist-packages (from requests) (3.10)\n",
            "Requirement already satisfied: urllib3<3,>=1.21.1 in /usr/local/lib/python3.11/dist-packages (from requests) (2.3.0)\n",
            "Requirement already satisfied: certifi>=2017.4.17 in /usr/local/lib/python3.11/dist-packages (from requests) (2024.12.14)\n",
            "Requirement already satisfied: soupsieve>1.2 in /usr/local/lib/python3.11/dist-packages (from beautifulsoup4) (2.6)\n"
          ]
        }
      ]
    },
    {
      "cell_type": "code",
      "source": [
        "import requests\n",
        "from bs4 import BeautifulSoup\n",
        "from nltk.tokenize import sent_tokenize\n",
        "nltk.download('punkt_tab')"
      ],
      "metadata": {
        "colab": {
          "base_uri": "https://localhost:8080/"
        },
        "id": "3RL4EhPvo9ip",
        "outputId": "aed56d76-4e5b-47cc-d47d-27a537e6c21d"
      },
      "execution_count": 10,
      "outputs": [
        {
          "output_type": "stream",
          "name": "stderr",
          "text": [
            "[nltk_data] Downloading package punkt_tab to /root/nltk_data...\n",
            "[nltk_data]   Unzipping tokenizers/punkt_tab.zip.\n"
          ]
        },
        {
          "output_type": "execute_result",
          "data": {
            "text/plain": [
              "True"
            ]
          },
          "metadata": {},
          "execution_count": 10
        }
      ]
    },
    {
      "cell_type": "code",
      "source": [
        "url=\"https://indianexpress.com/\""
      ],
      "metadata": {
        "id": "WrVudeK5pSnQ"
      },
      "execution_count": 11,
      "outputs": []
    },
    {
      "cell_type": "code",
      "source": [
        "res=requests.get(url)"
      ],
      "metadata": {
        "id": "-N2g5t3EpMyF"
      },
      "execution_count": 12,
      "outputs": []
    },
    {
      "cell_type": "code",
      "source": [
        "par=BeautifulSoup(res.text,\"html.parser\")"
      ],
      "metadata": {
        "id": "fkjMA5fNqUrq"
      },
      "execution_count": 13,
      "outputs": []
    },
    {
      "cell_type": "code",
      "source": [
        "paragraph=par.find_all('p')\n",
        "text=\"\".join([p.get_text() for p in paragraph])"
      ],
      "metadata": {
        "id": "fcj10r2yqcQV"
      },
      "execution_count": 14,
      "outputs": []
    },
    {
      "cell_type": "code",
      "source": [
        "sentences = sent_tokenize(text)\n"
      ],
      "metadata": {
        "id": "CfkJydN9r6sq"
      },
      "execution_count": 15,
      "outputs": []
    },
    {
      "cell_type": "code",
      "source": [
        "for sentence in sentences:\n",
        "    sent=s.polarity_scores(text)"
      ],
      "metadata": {
        "id": "RZSjPbtLrK0G"
      },
      "execution_count": 16,
      "outputs": []
    },
    {
      "cell_type": "code",
      "source": [
        "print(\"Sentence:\" ,sentence)\n",
        "print(\"Result:\")\n",
        "print(\"Positive: ,\",sent['pos'])\n",
        "print(\"Neutral:\",sent['neu'])\n",
        "print(\"Negative:\",sent['neg'])\n",
        "print(\"Overall Sentiment Score:\",sent['compound'])"
      ],
      "metadata": {
        "colab": {
          "base_uri": "https://localhost:8080/"
        },
        "id": "7u7FhlYeslGL",
        "outputId": "ad70ca8b-3d13-4557-c3e3-26d0314e30e5"
      },
      "execution_count": 21,
      "outputs": [
        {
          "output_type": "stream",
          "name": "stdout",
          "text": [
            "Sentence: The overwhelmed administration struggled to manage the situation, leaving many feeling abandoned and hopeless.\n",
            "Result:\n",
            "Positive: , 0.065\n",
            "Neutral: 0.837\n",
            "Negative: 0.098\n",
            "Overall Sentiment Score: -0.9442\n"
          ]
        }
      ]
    },
    {
      "cell_type": "code",
      "source": [
        "if sent['compound'] >= 0.05:\n",
        "    print(\"Overall: Positive\")\n",
        "elif sent['compound'] <= -0.05:\n",
        "    print(\"Overall: Negative\")\n",
        "else:\n",
        "    print(\"Overall: Neutral\")"
      ],
      "metadata": {
        "colab": {
          "base_uri": "https://localhost:8080/"
        },
        "id": "7zvAIK_drYsR",
        "outputId": "f45f9802-6e27-4e51-cd3d-a492ec529830"
      },
      "execution_count": 20,
      "outputs": [
        {
          "output_type": "stream",
          "name": "stdout",
          "text": [
            "Overall: Negative\n"
          ]
        }
      ]
    }
  ]
}